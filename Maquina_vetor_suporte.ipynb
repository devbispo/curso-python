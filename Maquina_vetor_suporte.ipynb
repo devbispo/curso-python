{
  "nbformat": 4,
  "nbformat_minor": 0,
  "metadata": {
    "colab": {
      "name": "Maquina_vetor_suporte",
      "provenance": [],
      "authorship_tag": "ABX9TyOyoGgL6KzbiAuiscN268x1",
      "include_colab_link": true
    },
    "kernelspec": {
      "name": "python3",
      "display_name": "Python 3"
    },
    "language_info": {
      "name": "python"
    }
  },
  "cells": [
    {
      "cell_type": "markdown",
      "metadata": {
        "id": "view-in-github",
        "colab_type": "text"
      },
      "source": [
        "<a href=\"https://colab.research.google.com/github/devbispo/curso-python/blob/main/Maquina_vetor_suporte.ipynb\" target=\"_parent\"><img src=\"https://colab.research.google.com/assets/colab-badge.svg\" alt=\"Open In Colab\"/></a>"
      ]
    },
    {
      "cell_type": "code",
      "execution_count": null,
      "metadata": {
        "id": "_7TrJDhrVPhb"
      },
      "outputs": [],
      "source": [
        "'''Uma Máquina de Vetores de Suporte (SVM) é um modelo muito poderoso e versátil\n",
        "de Aprendizado de Máquina capaz de realizar classificações lineares ou não lineares,\n",
        "de regressão e até mesmo detecção de outliers. É um dos modelos mais populares no\n",
        "Aprendizado de Máquina e qualquer pessoa interessada no tema deve tê-lo em sua caixa\n",
        "de ferramentas. As SVM são particularmente adequadas para a classificação de conjuntos\n",
        "de dados complexos, porém de pequeno ou médio porte.'''"
      ]
    },
    {
      "cell_type": "code",
      "source": [
        "'''O código do Scikit-Learn a seguir carrega o conjunto de dados contraceptivos da \n",
        "indonesia, converte para o arquivo .pkl e escalona as características e treina um modelo SVM linear \n",
        "(utilizando a classe LinearSVC com C = 1)'''"
      ],
      "metadata": {
        "id": "BZjpLidxRyXT"
      },
      "execution_count": null,
      "outputs": []
    },
    {
      "cell_type": "code",
      "source": [
        "import pandas as pd    #Carregando base de dados\n",
        "import numpy as np\n",
        "base = pd.read_csv('cmc.csv')\n",
        "base.shape"
      ],
      "metadata": {
        "colab": {
          "base_uri": "https://localhost:8080/"
        },
        "id": "tcdfeGiBQjF3",
        "outputId": "d6144c89-0d78-4ccb-b061-ed587574692a"
      },
      "execution_count": 1,
      "outputs": [
        {
          "output_type": "execute_result",
          "data": {
            "text/plain": [
              "(1472, 10)"
            ]
          },
          "metadata": {},
          "execution_count": 1
        }
      ]
    },
    {
      "cell_type": "code",
      "source": [
        "previsores = base.iloc[:,0:9].values\n",
        "classe = base.iloc[:,9].values\n",
        "previsores"
      ],
      "metadata": {
        "id": "-AY_F-q7W8j0",
        "colab": {
          "base_uri": "https://localhost:8080/"
        },
        "outputId": "4c4a8c54-0729-44b9-c578-fac6621ee222"
      },
      "execution_count": 2,
      "outputs": [
        {
          "output_type": "execute_result",
          "data": {
            "text/plain": [
              "array([[45,  1,  3, ...,  3,  4,  0],\n",
              "       [43,  2,  3, ...,  3,  4,  0],\n",
              "       [42,  3,  2, ...,  3,  3,  0],\n",
              "       ...,\n",
              "       [39,  3,  3, ...,  1,  4,  0],\n",
              "       [33,  3,  3, ...,  2,  2,  0],\n",
              "       [17,  3,  3, ...,  2,  4,  0]])"
            ]
          },
          "metadata": {},
          "execution_count": 2
        }
      ]
    },
    {
      "cell_type": "code",
      "source": [
        "from sklearn.preprocessing import LabelEncoder\n",
        "mci = LabelEncoder()\n",
        "previsores[:,0] = mci.fit_transform(previsores[:,0])\n",
        "previsores[:,1] = mci.fit_transform(previsores[:,1])\n",
        "previsores[:,2] = mci.fit_transform(previsores[:,2])\n",
        "previsores[:,3] = mci.fit_transform(previsores[:,3])\n",
        "previsores[:,4] = mci.fit_transform(previsores[:,4])\n",
        "previsores[:,5] = mci.fit_transform(previsores[:,5])\n",
        "previsores[:,6] = mci.fit_transform(previsores[:,6])\n",
        "previsores[:,7] = mci.fit_transform(previsores[:,7])\n",
        "previsores[:,8] = mci.fit_transform(previsores[:,8])\n",
        "\n",
        "\n",
        "classe = mci.fit_transform(classe)\n",
        "classe"
      ],
      "metadata": {
        "id": "1U1TY2k-AZt0",
        "colab": {
          "base_uri": "https://localhost:8080/"
        },
        "outputId": "bddc89b1-be4f-46e0-d512-0a57ce3f583a"
      },
      "execution_count": 3,
      "outputs": [
        {
          "output_type": "execute_result",
          "data": {
            "text/plain": [
              "array([0, 0, 0, ..., 2, 2, 2])"
            ]
          },
          "metadata": {},
          "execution_count": 3
        }
      ]
    },
    {
      "cell_type": "code",
      "source": [
        "from sklearn.model_selection import train_test_split\n",
        "x_cmc_treinamento, x_cmc_teste, y_cmc_treinamento, y_cmc_teste = train_test_split(previsores, classe, test_size = 0.25, random_state=0)\n"
      ],
      "metadata": {
        "id": "My33qbEjBZ50"
      },
      "execution_count": 4,
      "outputs": []
    },
    {
      "cell_type": "code",
      "source": [
        "\n",
        "import pandas as np\n",
        "import numpy as np\n",
        "np.set_printoptions(threshold=np.inf)\n",
        "import pickle \n",
        "with open('cmc.pkl', mode = 'wb') as f:\n",
        "   pickle.dump([x_cmc_treinamento,y_cmc_treinamento, x_cmc_teste,  y_cmc_teste], f)"
      ],
      "metadata": {
        "id": "RRPUGrZYSm1v"
      },
      "execution_count": 13,
      "outputs": []
    },
    {
      "cell_type": "code",
      "source": [
        "from sklearn.svm import SVC\n",
        "import pickle \n",
        "with open('cmc.pkl', mode = 'rb') as f:\n",
        "  x_cmc_treinamento, y_cmc_treinamento, x_cmc_teste, y_cmc_teste = pickle.load(f)\n",
        "svm_cmc = SVC(kernel='linear', C = 1)\n",
        "svm_cmc.fit(x_cmc_treinamento, y_cmc_treinamento)\n",
        "previsores = svm_cmc.predict(x_cmc_teste)\n",
        "from sklearn.metrics import accuracy_score, classification_report\n",
        "accuracy_score(y_cmc_teste, previsores)\n",
        "from yellowbrick.classifier import ConfusionMatrix\n",
        "cmc = ConfusionMatrix(svm_cmc)\n",
        "cmc.fit(x_cmc_treinamento, y_cmc_treinamento)\n",
        "cmc.score(x_cmc_teste, y_cmc_teste)"
      ],
      "metadata": {
        "colab": {
          "base_uri": "https://localhost:8080/",
          "height": 361
        },
        "id": "eXZpkIOcSkOL",
        "outputId": "81eabb8d-213c-4226-f2e4-dfd8a35963f2"
      },
      "execution_count": 14,
      "outputs": [
        {
          "output_type": "execute_result",
          "data": {
            "text/plain": [
              "0.5353260869565217"
            ]
          },
          "metadata": {},
          "execution_count": 14
        },
        {
          "output_type": "display_data",
          "data": {
            "text/plain": [
              "<Figure size 576x396 with 1 Axes>"
            ],
            "image/png": "[encoded data removed]"
          },
          "metadata": {}
        }
      ]
    }
  ]
}