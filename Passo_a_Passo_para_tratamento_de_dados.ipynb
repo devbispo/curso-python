{
  "nbformat": 4,
  "nbformat_minor": 0,
  "metadata": {
    "colab": {
      "name": "Passo-a-Passo-para-tratamento-de-dados",
      "provenance": [],
      "authorship_tag": "ABX9TyMjZEYc/VG9v3S9GPELXucw",
      "include_colab_link": true
    },
    "kernelspec": {
      "name": "python3",
      "display_name": "Python 3"
    },
    "language_info": {
      "name": "python"
    }
  },
  "cells": [
    {
      "cell_type": "markdown",
      "metadata": {
        "id": "view-in-github",
        "colab_type": "text"
      },
      "source": [
        "<a href=\"https://colab.research.google.com/github/devbispo/curso-python/blob/main/Passo_a_Passo_para_tratamento_de_dados.ipynb\" target=\"_parent\"><img src=\"https://colab.research.google.com/assets/colab-badge.svg\" alt=\"Open In Colab\"/></a>"
      ]
    },
    {
      "cell_type": "code",
      "execution_count": null,
      "metadata": {
        "id": "JFxR7wQrZWEK"
      },
      "outputs": [],
      "source": [
        "#1) Carregar a base de dados\n",
        "#2) Dividir o banco de dados em previsores e classe\n",
        "#3)pre-processamento\n",
        "#4)Dividir dados treinamento e teste\n",
        "#5)Criar o arquivo *PKL\n",
        "#6) Abrir o arquivo *PKL\n",
        "#7) Aplicar o Algoritmo \n",
        "#8) Metricas com % de erros e matriz de confusao\n",
        "#9) Comparar com outros Resultador\n"
      ]
    },
    {
      "cell_type": "code",
      "source": [
        "#1 Passo\n",
        "import pandas as pd\n",
        "import numpy as np\n",
        "base = pd.read_csv('nursery.csv')\n",
        "base.shape"
      ],
      "metadata": {
        "colab": {
          "base_uri": "https://localhost:8080/"
        },
        "id": "dfKnVuxxbmCH",
        "outputId": "6ee3c154-c9d8-4b71-bb55-b5dad72221d1"
      },
      "execution_count": 10,
      "outputs": [
        {
          "output_type": "execute_result",
          "data": {
            "text/plain": [
              "(12959, 9)"
            ]
          },
          "metadata": {},
          "execution_count": 10
        }
      ]
    },
    {
      "cell_type": "code",
      "source": [
        "#2 Passo\n",
        "previsores = base.iloc[:,0:8].values\n",
        "classe = base.iloc[:,8].values\n",
        "previsores"
      ],
      "metadata": {
        "colab": {
          "base_uri": "https://localhost:8080/"
        },
        "id": "eA6-khukfSNx",
        "outputId": "5774b63a-8f50-4c1e-ece4-da619b1e57bd"
      },
      "execution_count": 13,
      "outputs": [
        {
          "output_type": "execute_result",
          "data": {
            "text/plain": [
              "array([['usual', 'proper', 'complete', ..., 'convenient', 'nonprob',\n",
              "        'priority'],\n",
              "       ['usual', 'proper', 'complete', ..., 'convenient', 'nonprob',\n",
              "        'not_recom'],\n",
              "       ['usual', 'proper', 'complete', ..., 'convenient',\n",
              "        'slightly_prob', 'recommended'],\n",
              "       ...,\n",
              "       ['great_pret', 'very_crit', 'foster', ..., 'inconv',\n",
              "        'problematic', 'recommended'],\n",
              "       ['great_pret', 'very_crit', 'foster', ..., 'inconv',\n",
              "        'problematic', 'priority'],\n",
              "       ['great_pret', 'very_crit', 'foster', ..., 'inconv',\n",
              "        'problematic', 'not_recom']], dtype=object)"
            ]
          },
          "metadata": {},
          "execution_count": 13
        }
      ]
    },
    {
      "cell_type": "code",
      "source": [
        "#3 Passo\n",
        "from sklearn.preprocessing import LabelEncoder\n",
        "labeliesb = LabelEncoder()\n",
        "previsores[:,0] = labeliesb.fit_transform(previsores[:,0])\n",
        "previsores[:,1] = labeliesb.fit_transform(previsores[:,1])\n",
        "previsores[:,2] = labeliesb.fit_transform(previsores[:,2])\n",
        "previsores[:,3] = labeliesb.fit_transform(previsores[:,3])\n",
        "previsores[:,4] = labeliesb.fit_transform(previsores[:,4])\n",
        "previsores[:,5] = labeliesb.fit_transform(previsores[:,5])\n",
        "previsores[:,6] = labeliesb.fit_transform(previsores[:,6])\n",
        "previsores[:,7] = labeliesb.fit_transform(previsores[:,7])\n",
        "\n",
        "classe = labeliesb.fit_transform(classe)\n",
        "classe"
      ],
      "metadata": {
        "colab": {
          "base_uri": "https://localhost:8080/"
        },
        "id": "Y4SFCI0jnayA",
        "outputId": "30982115-2bf5-403d-db83-58ce13dd8526"
      },
      "execution_count": 19,
      "outputs": [
        {
          "output_type": "execute_result",
          "data": {
            "text/plain": [
              "array([1, 0, 2, ..., 3, 3, 0])"
            ]
          },
          "metadata": {},
          "execution_count": 19
        }
      ]
    },
    {
      "cell_type": "code",
      "source": [
        "#4 Passo\n",
        "from sklearn.model_selection import train_test_split\n",
        "previsores_treinamento, previsores_teste, teste_treinamento, classe_teste = train_test_split(previsores, classe, test_size = 0.25, random_state=0)\n",
        "previsores_treinamento\n"
      ],
      "metadata": {
        "colab": {
          "base_uri": "https://localhost:8080/"
        },
        "id": "pb8RGUigshoW",
        "outputId": "e9133537-2fab-4d87-86cf-e36aa529e83a"
      },
      "execution_count": 25,
      "outputs": [
        {
          "output_type": "execute_result",
          "data": {
            "text/plain": [
              "array([[1, 1, 1, ..., 0, 2, 1],\n",
              "       [2, 0, 3, ..., 0, 1, 1],\n",
              "       [2, 4, 1, ..., 1, 0, 0],\n",
              "       ...,\n",
              "       [0, 2, 1, ..., 0, 0, 2],\n",
              "       [0, 1, 3, ..., 0, 0, 2],\n",
              "       [2, 0, 0, ..., 1, 1, 2]], dtype=object)"
            ]
          },
          "metadata": {},
          "execution_count": 25
        }
      ]
    },
    {
      "cell_type": "code",
      "source": [
        "#5 Passo\n",
        "import pickle \n",
        "with open('nursery.dados', mode = 'wb') as f:\n",
        "  pickle.dump([previsores_treinamento, previsores_teste, teste_treinamento, classe_teste], f)\n"
      ],
      "metadata": {
        "id": "Qg-Nw2Yvu5vY"
      },
      "execution_count": 28,
      "outputs": []
    }
  ]
}