{
  "nbformat": 4,
  "nbformat_minor": 0,
  "metadata": {
    "colab": {
      "name": "Passo-a-Passo-para-tratamento-de-dados",
      "provenance": [],
      "authorship_tag": "ABX9TyPzszjk75IVrBO76LwGui/5",
      "include_colab_link": true
    },
    "kernelspec": {
      "name": "python3",
      "display_name": "Python 3"
    },
    "language_info": {
      "name": "python"
    }
  },
  "cells": [
    {
      "cell_type": "markdown",
      "metadata": {
        "id": "view-in-github",
        "colab_type": "text"
      },
      "source": [
        "<a href=\"https://colab.research.google.com/github/devbispo/curso-python/blob/main/Passo_a_Passo_para_tratamento_de_dados.ipynb\" target=\"_parent\"><img src=\"https://colab.research.google.com/assets/colab-badge.svg\" alt=\"Open In Colab\"/></a>"
      ]
    },
    {
      "cell_type": "code",
      "execution_count": null,
      "metadata": {
        "id": "JFxR7wQrZWEK"
      },
      "outputs": [],
      "source": [
        "#1) Carregar a base de dados\n",
        "#2) Dividir o banco de dados em previsores e classe\n",
        "#3)pre-processamento\n",
        "#4)Dividir dados treinamento e teste\n",
        "#5)Criar o arquivo *PKL\n",
        "#6) Abrir o arquivo *PKL\n",
        "#7) Aplicar o Algoritmo \n",
        "#8) Metricas com % de erros e matriz de confusao\n",
        "#9) Comparar com outros Resultador"
      ]
    }
  ]
}