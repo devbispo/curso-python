{
  "nbformat": 4,
  "nbformat_minor": 0,
  "metadata": {
    "colab": {
      "name": "aprendizagem-de-maquina-arvore -de-decisao",
      "provenance": [],
      "authorship_tag": "ABX9TyPcrxHTCB4SA+8KUHXk/isr",
      "include_colab_link": true
    },
    "kernelspec": {
      "name": "python3",
      "display_name": "Python 3"
    },
    "language_info": {
      "name": "python"
    }
  },
  "cells": [
    {
      "cell_type": "markdown",
      "metadata": {
        "id": "view-in-github",
        "colab_type": "text"
      },
      "source": [
        "<a href=\"https://colab.research.google.com/github/devbispo/curso-python/blob/main/aprendizagem_de_maquina_arvore_de_decisao.ipynb\" target=\"_parent\"><img src=\"https://colab.research.google.com/assets/colab-badge.svg\" alt=\"Open In Colab\"/></a>"
      ]
    },
    {
      "cell_type": "code",
      "source": [
        "pip install Orange3"
      ],
      "metadata": {
        "id": "CovOID_HxU3k"
      },
      "execution_count": null,
      "outputs": []
    },
    {
      "cell_type": "code",
      "source": [
        "import Orange"
      ],
      "metadata": {
        "id": "6e0EXK0xyhz4"
      },
      "execution_count": null,
      "outputs": []
    },
    {
      "cell_type": "code",
      "execution_count": null,
      "metadata": {
        "id": "fqfHkdJM93YN",
        "colab": {
          "base_uri": "https://localhost:8080/",
          "height": 361
        },
        "outputId": "cb797d6c-85d1-453c-e687-d6d76c881f6a"
      },
      "outputs": [
        {
          "output_type": "execute_result",
          "data": {
            "text/plain": [
              "          Wife_age  Wife_education  Husband_education     children  \\\n",
              "count  1473.000000     1473.000000        1473.000000  1473.000000   \n",
              "mean     32.538357        2.958588           3.429735     3.261371   \n",
              "std       8.227245        1.014994           0.816349     2.358549   \n",
              "min      16.000000        1.000000           1.000000     0.000000   \n",
              "25%      26.000000        2.000000           3.000000     1.000000   \n",
              "50%      32.000000        3.000000           4.000000     3.000000   \n",
              "75%      39.000000        4.000000           4.000000     4.000000   \n",
              "max      49.000000        4.000000           4.000000    16.000000   \n",
              "\n",
              "       Wife_religion  Wife_is_working  Husband_occupation  \\\n",
              "count    1473.000000      1473.000000         1473.000000   \n",
              "mean        0.850645         0.749491            2.137814   \n",
              "std         0.356559         0.433453            0.864857   \n",
              "min         0.000000         0.000000            1.000000   \n",
              "25%         1.000000         0.000000            1.000000   \n",
              "50%         1.000000         1.000000            2.000000   \n",
              "75%         1.000000         1.000000            3.000000   \n",
              "max         1.000000         1.000000            4.000000   \n",
              "\n",
              "       Standard_of_living_index  Media_exposure  Contraceptive_method_used  \n",
              "count               1473.000000     1473.000000                1473.000000  \n",
              "mean                   3.133741        0.073999                   1.919891  \n",
              "std                    0.976161        0.261858                   0.876376  \n",
              "min                    1.000000        0.000000                   1.000000  \n",
              "25%                    3.000000        0.000000                   1.000000  \n",
              "50%                    3.000000        0.000000                   2.000000  \n",
              "75%                    4.000000        0.000000                   3.000000  \n",
              "max                    4.000000        1.000000                   3.000000  "
            ],
            "text/html": [
              "\n",
              "  <div id=\"df-ffc09540-56b2-4564-b9e4-08335cd4e8b2\">\n",
              "    <div class=\"colab-df-container\">\n",
              "      <div>\n",
              "<style scoped>\n",
              "    .dataframe tbody tr th:only-of-type {\n",
              "        vertical-align: middle;\n",
              "    }\n",
              "\n",
              "    .dataframe tbody tr th {\n",
              "        vertical-align: top;\n",
              "    }\n",
              "\n",
              "    .dataframe thead th {\n",
              "        text-align: right;\n",
              "    }\n",
              "</style>\n",
              "<table border=\"1\" class=\"dataframe\">\n",
              "  <thead>\n",
              "    <tr style=\"text-align: right;\">\n",
              "      <th></th>\n",
              "      <th>Wife_age</th>\n",
              "      <th>Wife_education</th>\n",
              "      <th>Husband_education</th>\n",
              "      <th>children</th>\n",
              "      <th>Wife_religion</th>\n",
              "      <th>Wife_is_working</th>\n",
              "      <th>Husband_occupation</th>\n",
              "      <th>Standard_of_living_index</th>\n",
              "      <th>Media_exposure</th>\n",
              "      <th>Contraceptive_method_used</th>\n",
              "    </tr>\n",
              "  </thead>\n",
              "  <tbody>\n",
              "    <tr>\n",
              "      <th>count</th>\n",
              "      <td>1473.000000</td>\n",
              "      <td>1473.000000</td>\n",
              "      <td>1473.000000</td>\n",
              "      <td>1473.000000</td>\n",
              "      <td>1473.000000</td>\n",
              "      <td>1473.000000</td>\n",
              "      <td>1473.000000</td>\n",
              "      <td>1473.000000</td>\n",
              "      <td>1473.000000</td>\n",
              "      <td>1473.000000</td>\n",
              "    </tr>\n",
              "    <tr>\n",
              "      <th>mean</th>\n",
              "      <td>32.538357</td>\n",
              "      <td>2.958588</td>\n",
              "      <td>3.429735</td>\n",
              "      <td>3.261371</td>\n",
              "      <td>0.850645</td>\n",
              "      <td>0.749491</td>\n",
              "      <td>2.137814</td>\n",
              "      <td>3.133741</td>\n",
              "      <td>0.073999</td>\n",
              "      <td>1.919891</td>\n",
              "    </tr>\n",
              "    <tr>\n",
              "      <th>std</th>\n",
              "      <td>8.227245</td>\n",
              "      <td>1.014994</td>\n",
              "      <td>0.816349</td>\n",
              "      <td>2.358549</td>\n",
              "      <td>0.356559</td>\n",
              "      <td>0.433453</td>\n",
              "      <td>0.864857</td>\n",
              "      <td>0.976161</td>\n",
              "      <td>0.261858</td>\n",
              "      <td>0.876376</td>\n",
              "    </tr>\n",
              "    <tr>\n",
              "      <th>min</th>\n",
              "      <td>16.000000</td>\n",
              "      <td>1.000000</td>\n",
              "      <td>1.000000</td>\n",
              "      <td>0.000000</td>\n",
              "      <td>0.000000</td>\n",
              "      <td>0.000000</td>\n",
              "      <td>1.000000</td>\n",
              "      <td>1.000000</td>\n",
              "      <td>0.000000</td>\n",
              "      <td>1.000000</td>\n",
              "    </tr>\n",
              "    <tr>\n",
              "      <th>25%</th>\n",
              "      <td>26.000000</td>\n",
              "      <td>2.000000</td>\n",
              "      <td>3.000000</td>\n",
              "      <td>1.000000</td>\n",
              "      <td>1.000000</td>\n",
              "      <td>0.000000</td>\n",
              "      <td>1.000000</td>\n",
              "      <td>3.000000</td>\n",
              "      <td>0.000000</td>\n",
              "      <td>1.000000</td>\n",
              "    </tr>\n",
              "    <tr>\n",
              "      <th>50%</th>\n",
              "      <td>32.000000</td>\n",
              "      <td>3.000000</td>\n",
              "      <td>4.000000</td>\n",
              "      <td>3.000000</td>\n",
              "      <td>1.000000</td>\n",
              "      <td>1.000000</td>\n",
              "      <td>2.000000</td>\n",
              "      <td>3.000000</td>\n",
              "      <td>0.000000</td>\n",
              "      <td>2.000000</td>\n",
              "    </tr>\n",
              "    <tr>\n",
              "      <th>75%</th>\n",
              "      <td>39.000000</td>\n",
              "      <td>4.000000</td>\n",
              "      <td>4.000000</td>\n",
              "      <td>4.000000</td>\n",
              "      <td>1.000000</td>\n",
              "      <td>1.000000</td>\n",
              "      <td>3.000000</td>\n",
              "      <td>4.000000</td>\n",
              "      <td>0.000000</td>\n",
              "      <td>3.000000</td>\n",
              "    </tr>\n",
              "    <tr>\n",
              "      <th>max</th>\n",
              "      <td>49.000000</td>\n",
              "      <td>4.000000</td>\n",
              "      <td>4.000000</td>\n",
              "      <td>16.000000</td>\n",
              "      <td>1.000000</td>\n",
              "      <td>1.000000</td>\n",
              "      <td>4.000000</td>\n",
              "      <td>4.000000</td>\n",
              "      <td>1.000000</td>\n",
              "      <td>3.000000</td>\n",
              "    </tr>\n",
              "  </tbody>\n",
              "</table>\n",
              "</div>\n",
              "      <button class=\"colab-df-convert\" onclick=\"convertToInteractive('df-ffc09540-56b2-4564-b9e4-08335cd4e8b2')\"\n",
              "              title=\"Convert this dataframe to an interactive table.\"\n",
              "              style=\"display:none;\">\n",
              "        \n",
              "  <svg xmlns=\"http://www.w3.org/2000/svg\" height=\"24px\"viewBox=\"0 0 24 24\"\n",
              "       width=\"24px\">\n",
              "    <path d=\"M0 0h24v24H0V0z\" fill=\"none\"/>\n",
              "    <path d=\"M18.56 5.44l.94 2.06.94-2.06 2.06-.94-2.06-.94-.94-2.06-.94 2.06-2.06.94zm-11 1L8.5 8.5l.94-2.06 2.06-.94-2.06-.94L8.5 2.5l-.94 2.06-2.06.94zm10 10l.94 2.06.94-2.06 2.06-.94-2.06-.94-.94-2.06-.94 2.06-2.06.94z\"/><path d=\"M17.41 7.96l-1.37-1.37c-.4-.4-.92-.59-1.43-.59-.52 0-1.04.2-1.43.59L10.3 9.45l-7.72 7.72c-.78.78-.78 2.05 0 2.83L4 21.41c.39.39.9.59 1.41.59.51 0 1.02-.2 1.41-.59l7.78-7.78 2.81-2.81c.8-.78.8-2.07 0-2.86zM5.41 20L4 18.59l7.72-7.72 1.47 1.35L5.41 20z\"/>\n",
              "  </svg>\n",
              "      </button>\n",
              "      \n",
              "  <style>\n",
              "    .colab-df-container {\n",
              "      display:flex;\n",
              "      flex-wrap:wrap;\n",
              "      gap: 12px;\n",
              "    }\n",
              "\n",
              "    .colab-df-convert {\n",
              "      background-color: #E8F0FE;\n",
              "      border: none;\n",
              "      border-radius: 50%;\n",
              "      cursor: pointer;\n",
              "      display: none;\n",
              "      fill: #1967D2;\n",
              "      height: 32px;\n",
              "      padding: 0 0 0 0;\n",
              "      width: 32px;\n",
              "    }\n",
              "\n",
              "    .colab-df-convert:hover {\n",
              "      background-color: #E2EBFA;\n",
              "      box-shadow: 0px 1px 2px rgba(60, 64, 67, 0.3), 0px 1px 3px 1px rgba(60, 64, 67, 0.15);\n",
              "      fill: #174EA6;\n",
              "    }\n",
              "\n",
              "    [theme=dark] .colab-df-convert {\n",
              "      background-color: #3B4455;\n",
              "      fill: #D2E3FC;\n",
              "    }\n",
              "\n",
              "    [theme=dark] .colab-df-convert:hover {\n",
              "      background-color: #434B5C;\n",
              "      box-shadow: 0px 1px 3px 1px rgba(0, 0, 0, 0.15);\n",
              "      filter: drop-shadow(0px 1px 2px rgba(0, 0, 0, 0.3));\n",
              "      fill: #FFFFFF;\n",
              "    }\n",
              "  </style>\n",
              "\n",
              "      <script>\n",
              "        const buttonEl =\n",
              "          document.querySelector('#df-ffc09540-56b2-4564-b9e4-08335cd4e8b2 button.colab-df-convert');\n",
              "        buttonEl.style.display =\n",
              "          google.colab.kernel.accessAllowed ? 'block' : 'none';\n",
              "\n",
              "        async function convertToInteractive(key) {\n",
              "          const element = document.querySelector('#df-ffc09540-56b2-4564-b9e4-08335cd4e8b2');\n",
              "          const dataTable =\n",
              "            await google.colab.kernel.invokeFunction('convertToInteractive',\n",
              "                                                     [key], {});\n",
              "          if (!dataTable) return;\n",
              "\n",
              "          const docLinkHtml = 'Like what you see? Visit the ' +\n",
              "            '<a target=\"_blank\" href=https://colab.research.google.com/notebooks/data_table.ipynb>data table notebook</a>'\n",
              "            + ' to learn more about interactive tables.';\n",
              "          element.innerHTML = '';\n",
              "          dataTable['output_type'] = 'display_data';\n",
              "          await google.colab.output.renderOutput(dataTable, element);\n",
              "          const docLink = document.createElement('div');\n",
              "          docLink.innerHTML = docLinkHtml;\n",
              "          element.appendChild(docLink);\n",
              "        }\n",
              "      </script>\n",
              "    </div>\n",
              "  </div>\n",
              "  "
            ]
          },
          "metadata": {},
          "execution_count": 59
        }
      ],
      "source": [
        "#Entropia é a medida das impurezas dos dados \n",
        "\n",
        "import pandas as pd\n",
        "import numpy as np\n",
        "from sklearn import preprocessing\n",
        "from sklearn.metrics import accuracy_score\n",
        "from sklearn.model_selection import train_test_split\n",
        "base = pd.read_csv(\"cmc.data\",\n",
        "  names =[\"Wife_age\",\"Wife_education\",\"Husband_education\",\"children\",\"Wife_religion\",\"Wife_is_working\",\"Husband_occupation\",\"Standard_of_living_index\", \"Media_exposure\",\"Contraceptive_method_used\"])\n",
        "base.describe()"
      ]
    },
    {
      "cell_type": "code",
      "source": [
        "\n",
        "\n",
        "\n",
        "base = pd.read_csv(\"cmc.data\",\n",
        "                          names =[\"Wife_age\",\"Wife_education\",\"Husband_education\",\"children\",\"Wife_religion\",\"Wife_is_working\",\"Husband_occupation\",\"Standard_of_living_index\", \"Media_exposure\",\"Contraceptive_method_used\"])\n",
        "\n",
        "\n",
        "print(base)"
      ],
      "metadata": {
        "colab": {
          "base_uri": "https://localhost:8080/"
        },
        "id": "vvptDMQvlMZM",
        "outputId": "c6172208-0299-492e-fef2-f8b53684be7c"
      },
      "execution_count": null,
      "outputs": [
        {
          "output_type": "stream",
          "name": "stdout",
          "text": [
            "      Wife_age  Wife_education  Husband_education  children  Wife_religion  \\\n",
            "0           24               2                  3         3              1   \n",
            "1           45               1                  3        10              1   \n",
            "2           43               2                  3         7              1   \n",
            "3           42               3                  2         9              1   \n",
            "4           36               3                  3         8              1   \n",
            "...        ...             ...                ...       ...            ...   \n",
            "1468        33               4                  4         2              1   \n",
            "1469        33               4                  4         3              1   \n",
            "1470        39               3                  3         8              1   \n",
            "1471        33               3                  3         4              1   \n",
            "1472        17               3                  3         1              1   \n",
            "\n",
            "      Wife_is_working  Husband_occupation  Standard_of_living_index  \\\n",
            "0                   1                   2                         3   \n",
            "1                   1                   3                         4   \n",
            "2                   1                   3                         4   \n",
            "3                   1                   3                         3   \n",
            "4                   1                   3                         2   \n",
            "...               ...                 ...                       ...   \n",
            "1468                0                   2                         4   \n",
            "1469                1                   1                         4   \n",
            "1470                0                   1                         4   \n",
            "1471                0                   2                         2   \n",
            "1472                1                   2                         4   \n",
            "\n",
            "      Media_exposure  Contraceptive_method_used  \n",
            "0                  0                          1  \n",
            "1                  0                          1  \n",
            "2                  0                          1  \n",
            "3                  0                          1  \n",
            "4                  0                          1  \n",
            "...              ...                        ...  \n",
            "1468               0                          3  \n",
            "1469               0                          3  \n",
            "1470               0                          3  \n",
            "1471               0                          3  \n",
            "1472               0                          3  \n",
            "\n",
            "[1473 rows x 10 columns]\n"
          ]
        }
      ]
    },
    {
      "cell_type": "code",
      "source": [
        "\n",
        "base = pd.read_csv('cmc.data')\n",
        "print(base)\n",
        "\n"
      ],
      "metadata": {
        "id": "EEVkCrv1mi0z",
        "colab": {
          "base_uri": "https://localhost:8080/"
        },
        "outputId": "14d2cb7b-0b06-4b37-da1f-6e4cadfeeae2"
      },
      "execution_count": null,
      "outputs": [
        {
          "output_type": "stream",
          "name": "stdout",
          "text": [
            "      24  2  3  3.1  1  1.1  2.1  3.2  0  1.2\n",
            "0     45  1  3   10  1    1    3    4  0    1\n",
            "1     43  2  3    7  1    1    3    4  0    1\n",
            "2     42  3  2    9  1    1    3    3  0    1\n",
            "3     36  3  3    8  1    1    3    2  0    1\n",
            "4     19  4  4    0  1    1    3    3  0    1\n",
            "...   .. .. ..  ... ..  ...  ...  ... ..  ...\n",
            "1467  33  4  4    2  1    0    2    4  0    3\n",
            "1468  33  4  4    3  1    1    1    4  0    3\n",
            "1469  39  3  3    8  1    0    1    4  0    3\n",
            "1470  33  3  3    4  1    0    2    2  0    3\n",
            "1471  17  3  3    1  1    1    2    4  0    3\n",
            "\n",
            "[1472 rows x 10 columns]\n"
          ]
        }
      ]
    },
    {
      "cell_type": "code",
      "source": [
        "base.info()\n"
      ],
      "metadata": {
        "colab": {
          "base_uri": "https://localhost:8080/"
        },
        "id": "UJ1YzlyHPUsZ",
        "outputId": "037a9908-c52f-4e23-da4a-e736f2997c04"
      },
      "execution_count": null,
      "outputs": [
        {
          "output_type": "stream",
          "name": "stdout",
          "text": [
            "<class 'pandas.core.frame.DataFrame'>\n",
            "RangeIndex: 1472 entries, 0 to 1471\n",
            "Data columns (total 10 columns):\n",
            " #   Column  Non-Null Count  Dtype\n",
            "---  ------  --------------  -----\n",
            " 0   24      1472 non-null   int64\n",
            " 1   2       1472 non-null   int64\n",
            " 2   3       1472 non-null   int64\n",
            " 3   3.1     1472 non-null   int64\n",
            " 4   1       1472 non-null   int64\n",
            " 5   1.1     1472 non-null   int64\n",
            " 6   2.1     1472 non-null   int64\n",
            " 7   3.2     1472 non-null   int64\n",
            " 8   0       1472 non-null   int64\n",
            " 9   1.2     1472 non-null   int64\n",
            "dtypes: int64(10)\n",
            "memory usage: 115.1 KB\n"
          ]
        }
      ]
    },
    {
      "cell_type": "code",
      "source": [
        "\n",
        "\n",
        "label_encoder = preprocessing.LabelEncoder()\n",
        "\n",
        "print(base)\n",
        "\n"
      ],
      "metadata": {
        "colab": {
          "base_uri": "https://localhost:8080/"
        },
        "id": "wbcsEQgYPp90",
        "outputId": "02a45979-ee2e-4cf9-83d6-4c5b929a9b84"
      },
      "execution_count": null,
      "outputs": [
        {
          "output_type": "stream",
          "name": "stdout",
          "text": [
            "      24  2  3  3.1  1  1.1  2.1  3.2  0  1.2\n",
            "0     45  1  3   10  1    1    3    4  0    1\n",
            "1     43  2  3    7  1    1    3    4  0    1\n",
            "2     42  3  2    9  1    1    3    3  0    1\n",
            "3     36  3  3    8  1    1    3    2  0    1\n",
            "4     19  4  4    0  1    1    3    3  0    1\n",
            "...   .. .. ..  ... ..  ...  ...  ... ..  ...\n",
            "1467  33  4  4    2  1    0    2    4  0    3\n",
            "1468  33  4  4    3  1    1    1    4  0    3\n",
            "1469  39  3  3    8  1    0    1    4  0    3\n",
            "1470  33  3  3    4  1    0    2    2  0    3\n",
            "1471  17  3  3    1  1    1    2    4  0    3\n",
            "\n",
            "[1472 rows x 10 columns]\n"
          ]
        }
      ]
    },
    {
      "cell_type": "code",
      "source": [
        "#Random Forest, também conhecido como Floresta aleatoria é um método usado\n",
        "#para  aprendizado de conjunto para classificação, regressão e outras tarefas que impera\n",
        "#na arvore de decisão\n"
      ],
      "metadata": {
        "id": "F9AlcPahUB_g"
      },
      "execution_count": null,
      "outputs": []
    },
    {
      "cell_type": "code",
      "source": [
        "base.head()"
      ],
      "metadata": {
        "colab": {
          "base_uri": "https://localhost:8080/",
          "height": 204
        },
        "id": "mN0kERm9zumZ",
        "outputId": "46262776-09e2-4678-e4f1-5c3e50200781"
      },
      "execution_count": null,
      "outputs": [
        {
          "output_type": "execute_result",
          "data": {
            "text/plain": [
              "   24  2  3  3.1  1  1.1  2.1  3.2  0  1.2\n",
              "0  45  1  3   10  1    1    3    4  0    1\n",
              "1  43  2  3    7  1    1    3    4  0    1\n",
              "2  42  3  2    9  1    1    3    3  0    1\n",
              "3  36  3  3    8  1    1    3    2  0    1\n",
              "4  19  4  4    0  1    1    3    3  0    1"
            ],
            "text/html": [
              "\n",
              "  <div id=\"df-2193b137-4dd0-49a1-a590-7990bbb892bf\">\n",
              "    <div class=\"colab-df-container\">\n",
              "      <div>\n",
              "<style scoped>\n",
              "    .dataframe tbody tr th:only-of-type {\n",
              "        vertical-align: middle;\n",
              "    }\n",
              "\n",
              "    .dataframe tbody tr th {\n",
              "        vertical-align: top;\n",
              "    }\n",
              "\n",
              "    .dataframe thead th {\n",
              "        text-align: right;\n",
              "    }\n",
              "</style>\n",
              "<table border=\"1\" class=\"dataframe\">\n",
              "  <thead>\n",
              "    <tr style=\"text-align: right;\">\n",
              "      <th></th>\n",
              "      <th>24</th>\n",
              "      <th>2</th>\n",
              "      <th>3</th>\n",
              "      <th>3.1</th>\n",
              "      <th>1</th>\n",
              "      <th>1.1</th>\n",
              "      <th>2.1</th>\n",
              "      <th>3.2</th>\n",
              "      <th>0</th>\n",
              "      <th>1.2</th>\n",
              "    </tr>\n",
              "  </thead>\n",
              "  <tbody>\n",
              "    <tr>\n",
              "      <th>0</th>\n",
              "      <td>45</td>\n",
              "      <td>1</td>\n",
              "      <td>3</td>\n",
              "      <td>10</td>\n",
              "      <td>1</td>\n",
              "      <td>1</td>\n",
              "      <td>3</td>\n",
              "      <td>4</td>\n",
              "      <td>0</td>\n",
              "      <td>1</td>\n",
              "    </tr>\n",
              "    <tr>\n",
              "      <th>1</th>\n",
              "      <td>43</td>\n",
              "      <td>2</td>\n",
              "      <td>3</td>\n",
              "      <td>7</td>\n",
              "      <td>1</td>\n",
              "      <td>1</td>\n",
              "      <td>3</td>\n",
              "      <td>4</td>\n",
              "      <td>0</td>\n",
              "      <td>1</td>\n",
              "    </tr>\n",
              "    <tr>\n",
              "      <th>2</th>\n",
              "      <td>42</td>\n",
              "      <td>3</td>\n",
              "      <td>2</td>\n",
              "      <td>9</td>\n",
              "      <td>1</td>\n",
              "      <td>1</td>\n",
              "      <td>3</td>\n",
              "      <td>3</td>\n",
              "      <td>0</td>\n",
              "      <td>1</td>\n",
              "    </tr>\n",
              "    <tr>\n",
              "      <th>3</th>\n",
              "      <td>36</td>\n",
              "      <td>3</td>\n",
              "      <td>3</td>\n",
              "      <td>8</td>\n",
              "      <td>1</td>\n",
              "      <td>1</td>\n",
              "      <td>3</td>\n",
              "      <td>2</td>\n",
              "      <td>0</td>\n",
              "      <td>1</td>\n",
              "    </tr>\n",
              "    <tr>\n",
              "      <th>4</th>\n",
              "      <td>19</td>\n",
              "      <td>4</td>\n",
              "      <td>4</td>\n",
              "      <td>0</td>\n",
              "      <td>1</td>\n",
              "      <td>1</td>\n",
              "      <td>3</td>\n",
              "      <td>3</td>\n",
              "      <td>0</td>\n",
              "      <td>1</td>\n",
              "    </tr>\n",
              "  </tbody>\n",
              "</table>\n",
              "</div>\n",
              "      <button class=\"colab-df-convert\" onclick=\"convertToInteractive('df-2193b137-4dd0-49a1-a590-7990bbb892bf')\"\n",
              "              title=\"Convert this dataframe to an interactive table.\"\n",
              "              style=\"display:none;\">\n",
              "        \n",
              "  <svg xmlns=\"http://www.w3.org/2000/svg\" height=\"24px\"viewBox=\"0 0 24 24\"\n",
              "       width=\"24px\">\n",
              "    <path d=\"M0 0h24v24H0V0z\" fill=\"none\"/>\n",
              "    <path d=\"M18.56 5.44l.94 2.06.94-2.06 2.06-.94-2.06-.94-.94-2.06-.94 2.06-2.06.94zm-11 1L8.5 8.5l.94-2.06 2.06-.94-2.06-.94L8.5 2.5l-.94 2.06-2.06.94zm10 10l.94 2.06.94-2.06 2.06-.94-2.06-.94-.94-2.06-.94 2.06-2.06.94z\"/><path d=\"M17.41 7.96l-1.37-1.37c-.4-.4-.92-.59-1.43-.59-.52 0-1.04.2-1.43.59L10.3 9.45l-7.72 7.72c-.78.78-.78 2.05 0 2.83L4 21.41c.39.39.9.59 1.41.59.51 0 1.02-.2 1.41-.59l7.78-7.78 2.81-2.81c.8-.78.8-2.07 0-2.86zM5.41 20L4 18.59l7.72-7.72 1.47 1.35L5.41 20z\"/>\n",
              "  </svg>\n",
              "      </button>\n",
              "      \n",
              "  <style>\n",
              "    .colab-df-container {\n",
              "      display:flex;\n",
              "      flex-wrap:wrap;\n",
              "      gap: 12px;\n",
              "    }\n",
              "\n",
              "    .colab-df-convert {\n",
              "      background-color: #E8F0FE;\n",
              "      border: none;\n",
              "      border-radius: 50%;\n",
              "      cursor: pointer;\n",
              "      display: none;\n",
              "      fill: #1967D2;\n",
              "      height: 32px;\n",
              "      padding: 0 0 0 0;\n",
              "      width: 32px;\n",
              "    }\n",
              "\n",
              "    .colab-df-convert:hover {\n",
              "      background-color: #E2EBFA;\n",
              "      box-shadow: 0px 1px 2px rgba(60, 64, 67, 0.3), 0px 1px 3px 1px rgba(60, 64, 67, 0.15);\n",
              "      fill: #174EA6;\n",
              "    }\n",
              "\n",
              "    [theme=dark] .colab-df-convert {\n",
              "      background-color: #3B4455;\n",
              "      fill: #D2E3FC;\n",
              "    }\n",
              "\n",
              "    [theme=dark] .colab-df-convert:hover {\n",
              "      background-color: #434B5C;\n",
              "      box-shadow: 0px 1px 3px 1px rgba(0, 0, 0, 0.15);\n",
              "      filter: drop-shadow(0px 1px 2px rgba(0, 0, 0, 0.3));\n",
              "      fill: #FFFFFF;\n",
              "    }\n",
              "  </style>\n",
              "\n",
              "      <script>\n",
              "        const buttonEl =\n",
              "          document.querySelector('#df-2193b137-4dd0-49a1-a590-7990bbb892bf button.colab-df-convert');\n",
              "        buttonEl.style.display =\n",
              "          google.colab.kernel.accessAllowed ? 'block' : 'none';\n",
              "\n",
              "        async function convertToInteractive(key) {\n",
              "          const element = document.querySelector('#df-2193b137-4dd0-49a1-a590-7990bbb892bf');\n",
              "          const dataTable =\n",
              "            await google.colab.kernel.invokeFunction('convertToInteractive',\n",
              "                                                     [key], {});\n",
              "          if (!dataTable) return;\n",
              "\n",
              "          const docLinkHtml = 'Like what you see? Visit the ' +\n",
              "            '<a target=\"_blank\" href=https://colab.research.google.com/notebooks/data_table.ipynb>data table notebook</a>'\n",
              "            + ' to learn more about interactive tables.';\n",
              "          element.innerHTML = '';\n",
              "          dataTable['output_type'] = 'display_data';\n",
              "          await google.colab.output.renderOutput(dataTable, element);\n",
              "          const docLink = document.createElement('div');\n",
              "          docLink.innerHTML = docLinkHtml;\n",
              "          element.appendChild(docLink);\n",
              "        }\n",
              "      </script>\n",
              "    </div>\n",
              "  </div>\n",
              "  "
            ]
          },
          "metadata": {},
          "execution_count": 23
        }
      ]
    },
    {
      "cell_type": "code",
      "source": [
        "base.shape"
      ],
      "metadata": {
        "colab": {
          "base_uri": "https://localhost:8080/"
        },
        "id": "fhdZmxfM5FBV",
        "outputId": "4a76d943-ee2f-430c-f036-8b18ebfccd37"
      },
      "execution_count": null,
      "outputs": [
        {
          "output_type": "execute_result",
          "data": {
            "text/plain": [
              "(1473, 10)"
            ]
          },
          "metadata": {},
          "execution_count": 26
        }
      ]
    },
    {
      "cell_type": "code",
      "source": [
        "from numpy import random\n",
        "from sklearn.utils.extmath import randomized_range_finder\n",
        "from sklearn.ensemble import RandomForestClassifier\n",
        "variaveis = ['Wife_age','Wife_education','Husband_education','children','Wife_religion','Wife_is_working','Husband_occupation','Standard_of_living_index', 'Media_exposure','Contraceptive_method_used']\n",
        "x = base[variaveis]\n",
        "y = base['children']\n",
        "\n",
        "x_train, x_test, y_train, y_test = train_test_split(x,y, test_size=0.2, random_state=0)\n",
        "\n",
        "\n"
      ],
      "metadata": {
        "id": "8ilYC4EH_xA_"
      },
      "execution_count": null,
      "outputs": []
    },
    {
      "cell_type": "code",
      "source": [
        "modelo = RandomForestClassifier(n_estimators=40, n_jobs=-1, random_state=0)"
      ],
      "metadata": {
        "id": "7q4tCBqDD3Fi"
      },
      "execution_count": null,
      "outputs": []
    },
    {
      "cell_type": "code",
      "source": [
        "modelo.fit(x_train, y_train)"
      ],
      "metadata": {
        "colab": {
          "base_uri": "https://localhost:8080/"
        },
        "id": "PWNpvSbZETzT",
        "outputId": "c4cc7bae-2543-4369-cade-efc8d329aaea"
      },
      "execution_count": null,
      "outputs": [
        {
          "output_type": "execute_result",
          "data": {
            "text/plain": [
              "RandomForestClassifier(n_estimators=40, n_jobs=-1, random_state=0)"
            ]
          },
          "metadata": {},
          "execution_count": 185
        }
      ]
    },
    {
      "cell_type": "code",
      "source": [
        "y_pred = modelo.predict(x_test)"
      ],
      "metadata": {
        "id": "dd340Co_E3cy"
      },
      "execution_count": null,
      "outputs": []
    },
    {
      "cell_type": "code",
      "source": [
        "print(\"Acuracia foi de :\", accuracy_score(y_test, y_pred) * 100)"
      ],
      "metadata": {
        "colab": {
          "base_uri": "https://localhost:8080/"
        },
        "id": "0U25PUtbFDEr",
        "outputId": "37744eb4-898d-45be-f4fd-e15076ba8480"
      },
      "execution_count": null,
      "outputs": [
        {
          "output_type": "stream",
          "name": "stdout",
          "text": [
            "Acuracia foi de : 94.23728813559322\n"
          ]
        }
      ]
    }
  ]
}