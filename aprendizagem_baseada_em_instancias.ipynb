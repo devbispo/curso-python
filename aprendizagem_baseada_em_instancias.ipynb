{
  "nbformat": 4,
  "nbformat_minor": 0,
  "metadata": {
    "colab": {
      "name": "aprendizagem_baseada_em_instancias",
      "provenance": [],
      "authorship_tag": "ABX9TyN6OAjY1bhxA+B+4U58OMpG",
      "include_colab_link": true
    },
    "kernelspec": {
      "name": "python3",
      "display_name": "Python 3"
    },
    "language_info": {
      "name": "python"
    }
  },
  "cells": [
    {
      "cell_type": "markdown",
      "metadata": {
        "id": "view-in-github",
        "colab_type": "text"
      },
      "source": [
        "<a href=\"https://colab.research.google.com/github/devbispo/curso-python/blob/main/aprendizagem_baseada_em_instancias.ipynb\" target=\"_parent\"><img src=\"https://colab.research.google.com/assets/colab-badge.svg\" alt=\"Open In Colab\"/></a>"
      ]
    },
    {
      "cell_type": "code",
      "execution_count": null,
      "metadata": {
        "id": "YOrKMeHPUcFV"
      },
      "outputs": [],
      "source": [
        "import pandas as pd\n",
        "import numpy as np\n",
        "np.set_printoptions(threshold=np.inf)\n",
        "base = pd.read_csv(\"credit_data.csv\")\n",
        "base.loc[base.age<0,'age'] = 40.92 #Corrigindo idades negativas\n",
        "previsores = base.iloc[:,1:4].values\n",
        "classe = base.iloc[:,4].values\n",
        "from sklearn.impute import SimpleImputer\n",
        "imputer = SimpleImputer(missing_values = np.nan, strategy = 'mean') #Corrigindo os NaN\n",
        "imputer = imputer.fit(previsores[:, 1:4])\n",
        "previsores[:, 1:4] = imputer.transform(previsores[:, 1:4])\n",
        "from sklearn.preprocessing import StandardScaler # Escalonamento ou padronização\n",
        "scaler = StandardScaler()\n",
        "previsores = scaler.fit_transform(previsores) #Divisao:\n",
        "from sklearn.model_selection import train_test_split # \\ quebra linha\n",
        "previsores_treinamento, previsores_teste, classe_treinamento, classe_teste = train_test_split(previsores, classe, test_size=0.25, random_state=0)\n",
        "print(previsores_treinamento[0:5,:])\n"
      ]
    },
    {
      "cell_type": "code",
      "source": [
        "import pandas as pd\n",
        "import numpy as np\n",
        "np.set_printoptions(threshold=np.inf)\n",
        "base = pd.read_csv(\"credit_data.csv\")\n",
        "base.loc[base.age<0,'age'] = 40.92 #Corrigindo idades negativas\n",
        "previsores = base.iloc[:,1:4].values\n",
        "classe = base.iloc[:,4].values\n",
        "from sklearn.impute import SimpleImputer\n",
        "imputer = SimpleImputer(missing_values = np.nan, strategy = 'mean') #Corrigindo os NaN\n",
        "imputer = imputer.fit(previsores[:, 1:4])\n",
        "previsores[:, 1:4] = imputer.transform(previsores[:, 1:4])\n",
        "from sklearn.preprocessing import StandardScaler # Escalonamento ou padronização\n",
        "scaler = StandardScaler()\n",
        "previsores = scaler.fit_transform(previsores) #Divisao:\n",
        "from sklearn.model_selection import train_test_split # \\ quebra linha\n",
        "previsores_treinamento, previsores_teste, classe_treinamento, classe_teste = train_test_split(previsores, classe, test_size=0.25, random_state=0)\n",
        "from sklearn.neighbors import KNeighborsClassifier # Minkowski e p=2 para Dist. Euclidiana\n",
        "classificador = KNeighborsClassifier(n_neighbors = 5, metric = 'minkowski', p = 2) # K=5\n",
        "classificador.fit(previsores_treinamento, classe_treinamento)\n",
        "previsoes = classificador.predict(previsores_teste) \n",
        "from sklearn.metrics import confusion_matrix, accuracy_score\n",
        "precisao = accuracy_score(classe_teste, previsoes) # <-- % de Acerto\n",
        "matriz = confusion_matrix(classe_teste, previsoes) # <-- Matriz de confusão\n",
        "print('Algoritmo de ML com % de Acerto de', 100*precisao, '%')\n",
        "print('\\n Matriz de erros e acertos: \\n', matriz)"
      ],
      "metadata": {
        "colab": {
          "base_uri": "https://localhost:8080/"
        },
        "id": "fw-0lPMKV3Zy",
        "outputId": "476848fc-ba48-4843-b6b9-7911c099cfd1"
      },
      "execution_count": null,
      "outputs": [
        {
          "output_type": "stream",
          "name": "stdout",
          "text": [
            "Algoritmo de ML com % de Acerto de 98.6 %\n",
            "\n",
            " Matriz de erros e acertos: \n",
            " [[432   4]\n",
            " [  3  61]]\n"
          ]
        }
      ]
    }
  ]
}