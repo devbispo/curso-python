{
  "cells": [
    {
      "cell_type": "markdown",
      "metadata": {
        "id": "view-in-github",
        "colab_type": "text"
      },
      "source": [
        "<a href=\"https://colab.research.google.com/github/devbispo/curso-python/blob/main/Curso_de_Python3.ipynb\" target=\"_parent\"><img src=\"https://colab.research.google.com/assets/colab-badge.svg\" alt=\"Open In Colab\"/></a>"
      ]
    },
    {
      "cell_type": "code",
      "execution_count": null,
      "metadata": {
        "id": "nM2DPsrMDW04"
      },
      "outputs": [],
      "source": [
        "%reset -f\n",
        "Vagas1=['FIESTA', 'CORSA', 'ECO SPORT', 'CERATTO', 'FORD FOCUS']\n",
        "\n",
        "print(Vagas1[4])"
      ]
    },
    {
      "cell_type": "code",
      "execution_count": null,
      "metadata": {
        "id": "XFb6L0leDJVQ"
      },
      "outputs": [],
      "source": [
        "%reset -f\n",
        "vaga1 = int( input('Insira um valor : '))\n",
        "vaga2 = int ( input('Insira o segundo valor : '))\n",
        "vagas = vaga1 + vaga2\n",
        "print('A soma vale {} ' .format(vagas))"
      ]
    },
    {
      "cell_type": "code",
      "execution_count": null,
      "metadata": {
        "id": "skVuYfc6rKFj"
      },
      "outputs": [],
      "source": [
        "''' Ordeom de Precedência\n",
        "1 ()\n",
        "2 **\n",
        "3 * / // %\n",
        "4 + - '''"
      ]
    },
    {
      "cell_type": "code",
      "execution_count": null,
      "metadata": {
        "id": "Rf9yd04xjgXo"
      },
      "outputs": [],
      "source": [
        "''' Entrada de dados '''\n",
        "%reset -f\n",
        "a = int(input('Insira sua idade: '))\n",
        "b = str(input('Insira seu nome: '))\n",
        "\n",
        "print('Olá {}, vejo que você tem exatamente {} anos de idade' .format(b, a))\n",
        "print(type(a))\n",
        "print(type(b))"
      ]
    },
    {
      "cell_type": "code",
      "execution_count": null,
      "metadata": {
        "id": "QkObEVcfpYuU"
      },
      "outputs": [],
      "source": [
        "''' Calculo do IMC'''\n",
        "'''IMC é a sigla para Índice de Massa Corpórea,\n",
        " parâmetro adotado pela Organização Mundial de \n",
        " Saúde para calcular o peso ideal de cada pessoa.'''\n",
        "%reset -f\n",
        "nome = str(input(\"Como te chamo?\"))\n",
        "altura = float(input('Olá {}, qual a sua altura? ' .format(nome) ))\n",
        "peso = float(input('E qual seu peso? '))\n",
        "\n",
        "imc = peso / ( altura * altura)\n",
        "\n",
        "print('Seu IMC é : {}' .format(imc))\n"
      ]
    },
    {
      "cell_type": "code",
      "execution_count": null,
      "metadata": {
        "id": "qYb4swt3HIwV"
      },
      "outputs": [],
      "source": [
        "''' Repetição'''\n",
        "%reset -f\n",
        "maior = 0\n",
        "menor = 0\n",
        "\n",
        "for x in range(1, 11):\n",
        "  c = float(input('Cliente {} Comprou quantos livros?'  .format(x)))\n",
        "  if x == 1:\n",
        "    maior = x\n",
        "    menor = x\n",
        "  else:\n",
        "      if c > maior:\n",
        "       maior = c\n",
        "       if c < menor:\n",
        "         menor = c\n",
        "print('O Melhor Cliente comprou {} livros' .format(maior))\n",
        "print('O Pior Cliente Comprou {} livros' .format(menor))\n",
        "      "
      ]
    },
    {
      "cell_type": "code",
      "execution_count": null,
      "metadata": {
        "colab": {
          "base_uri": "https://localhost:8080/"
        },
        "id": "1kzJSw-k_atr",
        "outputId": "e111fa7d-2e89-4063-9999-add65a05f458"
      },
      "outputs": [
        {
          "output_type": "stream",
          "name": "stdout",
          "text": [
            "['Ecosport', 'Corolla', 'RangeHover']\n"
          ]
        }
      ],
      "source": [
        "''' Eliminando Strings'''\n",
        "%reset -f\n",
        "carros = ['Fiesta', 'Ecosport', 'Corolla', 'RangeHover']\n",
        "carros.pop(0) \n",
        "print(carros)"
      ]
    },
    {
      "cell_type": "code",
      "source": [
        "'Calculando IMC Através da função'\n",
        "\n",
        "w = 68\n",
        "h = 1.69\n",
        "def imc(w,h):\n",
        "  return w/(h*h)\n",
        "  \n",
        "\n",
        "imc = imc (w,h)\n",
        "\n",
        "if imc < 16:\n",
        "\tprint(\"Magreza grave\")\n",
        "elif imc < 17:\n",
        "\tprint(\"Magreza moderada\")\n",
        "elif imc < 18.5:\n",
        "\tprint(\"Magreza leve\")\n",
        "elif imc < 25:\n",
        "\tprint(\"Saudável\")\n",
        "elif imc < 30:\n",
        "\tprint(\"Sobrepeso\")\n",
        "elif imc < 35:\n",
        "  print(\"Obesidade Grau I\")"
      ],
      "metadata": {
        "colab": {
          "base_uri": "https://localhost:8080/"
        },
        "id": "GWJqASeTNorf",
        "outputId": "ac3081e7-d5b3-4b3a-a054-ace5dca8b1b0"
      },
      "execution_count": null,
      "outputs": [
        {
          "output_type": "stream",
          "name": "stdout",
          "text": [
            "Saudável\n"
          ]
        }
      ]
    },
    {
      "cell_type": "code",
      "source": [
        "import pandas as pd\n",
        "\n",
        "dados_cliente = {\n",
        "  'Clientes': [\"Pedro\", \"Carlos\", \"Joaquin\", \"Diego\", \"Elaine\", \"Bárbara\", \"Juliana\", \"Patrick\", \"Augusto\", \"Zilda\"],\n",
        "  \"____________\"\n",
        "  'Livros Comprados na Semana': [3, 7, 2, 2, 15, 30, 15, 50, 13, 25]\n",
        "}\n",
        "\n",
        "sequenciar = pd.DataFrame(dados_cliente)\n",
        "\n",
        "print(sequenciar)\n"
      ],
      "metadata": {
        "colab": {
          "base_uri": "https://localhost:8080/"
        },
        "id": "xhFg9_KbTNmV",
        "outputId": "8de4f0bb-58e5-4f02-c4b5-fd80b7fba0d7"
      },
      "execution_count": null,
      "outputs": [
        {
          "output_type": "stream",
          "name": "stdout",
          "text": [
            "  Clientes  ____________Livros Comprados na Semana\n",
            "0    Pedro                                       3\n",
            "1   Carlos                                       7\n",
            "2  Joaquin                                       2\n",
            "3    Diego                                       2\n",
            "4   Elaine                                      15\n",
            "5  Bárbara                                      30\n",
            "6  Juliana                                      15\n",
            "7  Patrick                                      50\n",
            "8  Augusto                                      13\n",
            "9    Zilda                                      25\n"
          ]
        }
      ]
    },
    {
      "cell_type": "code",
      "source": [
        "x = 50\n",
        "\n",
        "y = 20\n",
        "\n",
        "aux = x\n",
        "\n",
        "x = y\n",
        "\n",
        "y = aux\n",
        "\n",
        "print(x,y)"
      ],
      "metadata": {
        "colab": {
          "base_uri": "https://localhost:8080/"
        },
        "id": "iGFjftCebPKl",
        "outputId": "8a528bd8-d598-4c9d-9c2a-985ec1faf598"
      },
      "execution_count": null,
      "outputs": [
        {
          "output_type": "stream",
          "name": "stdout",
          "text": [
            "20 50\n"
          ]
        }
      ]
    },
    {
      "cell_type": "code",
      "source": [
        "x = 10\n",
        "\n",
        "y = 30\n",
        "\n",
        "x = x + 10\n",
        "\n",
        "y = x + 10\n",
        "\n",
        "x = x + y\n",
        "\n",
        "print(x)"
      ],
      "metadata": {
        "colab": {
          "base_uri": "https://localhost:8080/"
        },
        "id": "PxER8Dd8cwME",
        "outputId": "8bf1e364-f890-4760-b529-a744154a4198"
      },
      "execution_count": null,
      "outputs": [
        {
          "output_type": "stream",
          "name": "stdout",
          "text": [
            "50\n"
          ]
        }
      ]
    },
    {
      "cell_type": "code",
      "source": [
        "x = 3.2\n",
        "type(x)"
      ],
      "metadata": {
        "id": "3_aIPccicx47",
        "colab": {
          "base_uri": "https://localhost:8080/"
        },
        "outputId": "8e77cec3-a3fb-4451-c24c-75f374d40a2f"
      },
      "execution_count": null,
      "outputs": [
        {
          "output_type": "execute_result",
          "data": {
            "text/plain": [
              "float"
            ]
          },
          "metadata": {},
          "execution_count": 5
        }
      ]
    },
    {
      "cell_type": "code",
      "source": [
        "x = 2*1**2\n",
        "print(x)"
      ],
      "metadata": {
        "id": "9to0Tb0Z2Suc",
        "colab": {
          "base_uri": "https://localhost:8080/"
        },
        "outputId": "a297c30b-3855-4afe-b2a4-dbd5e164583b"
      },
      "execution_count": null,
      "outputs": [
        {
          "output_type": "stream",
          "name": "stdout",
          "text": [
            "2\n"
          ]
        }
      ]
    },
    {
      "cell_type": "code",
      "source": [
        "'Algoritmo que realiza a média do faturamento Liquido Mensal de dados armaenados por dias, sendo asssim no total calculado a média já considereando '\n",
        "'os gastos de gasolina e desgaste do veículo.'\n",
        "\n",
        "import pandas as pd\n",
        "\n",
        "df = pd.read_excel('tudosãodados.xlsx')\n",
        "print(df)"
      ],
      "metadata": {
        "id": "Ds6azOSQAcnG"
      },
      "execution_count": null,
      "outputs": []
    },
    {
      "cell_type": "code",
      "source": [
        "\n",
        "'Curso ciências da computação USP'\n",
        "'Exercício 2 Média'\n",
        "x0=float(input('Digite a primeira nota :'))\n",
        "\n",
        "x1=float(input('Dgite a segunda nota :'))\n",
        "\n",
        "x2=float(input('Dgite a terceira nota :'))\n",
        "\n",
        "x3=float(input('Dgite a quarta nota :'))\n",
        "\n",
        "MediaTotal=(x0+x1+x2+x3)/4\n",
        "\n",
        "print(\"Média aritmética é\",MediaTotal)\n",
        "\n",
        "\n"
      ],
      "metadata": {
        "id": "wcNG_H9bfB7-",
        "colab": {
          "base_uri": "https://localhost:8080/"
        },
        "outputId": "a5c3dd14-bc6b-42e2-fcd1-e154202cdae0"
      },
      "execution_count": null,
      "outputs": [
        {
          "output_type": "stream",
          "name": "stdout",
          "text": [
            "Digite a primeira nota :50\n",
            "Dgite a segunda nota :60\n",
            "Dgite a terceira nota :90\n",
            "Dgite a quarta nota :20\n",
            "Média aritmética é 55.0\n"
          ]
        }
      ]
    },
    {
      "cell_type": "code",
      "source": [
        "'Curso ciências da computação USP'\n",
        "'Exercício 2 Perimetro e área'\n",
        "lado = int(input(\"Insira um lado: \"))\n",
        "\n",
        "CalcArea = lado**2\n",
        "CalcPeri = lado*4\n",
        "\n",
        "print(\"Perimetro \",CalcPeri,\"Area\",CalcArea)"
      ],
      "metadata": {
        "id": "9RdLGHzPFTps"
      },
      "execution_count": null,
      "outputs": []
    }
  ],
  "metadata": {
    "colab": {
      "provenance": [],
      "authorship_tag": "ABX9TyN9lp7QwLK8/B9I+FEcPsqU",
      "include_colab_link": true
    },
    "kernelspec": {
      "display_name": "Python 3",
      "name": "python3"
    },
    "language_info": {
      "name": "python"
    }
  },
  "nbformat": 4,
  "nbformat_minor": 0
}