{
  "cells": [
    {
      "cell_type": "markdown",
      "metadata": {
        "id": "view-in-github",
        "colab_type": "text"
      },
      "source": [
        "<a href=\"https://colab.research.google.com/github/devbispo/curso-python/blob/main/Curso_de_Python3.ipynb\" target=\"_parent\"><img src=\"https://colab.research.google.com/assets/colab-badge.svg\" alt=\"Open In Colab\"/></a>"
      ]
    },
    {
      "cell_type": "code",
      "execution_count": null,
      "metadata": {
        "id": "nM2DPsrMDW04"
      },
      "outputs": [],
      "source": [
        "%reset -f\n",
        "Vagas1=['FIESTA', 'CORSA', 'ECO SPORT', 'CERATTO', 'FORD FOCUS']\n",
        "\n",
        "print(Vagas1[4])"
      ]
    },
    {
      "cell_type": "code",
      "execution_count": null,
      "metadata": {
        "id": "XFb6L0leDJVQ"
      },
      "outputs": [],
      "source": [
        "%reset -f\n",
        "vaga1 = int( input('Insira um valor : '))\n",
        "vaga2 = int ( input('Insira o segundo valor : '))\n",
        "vagas = vaga1 + vaga2\n",
        "print('A soma vale {} ' .format(vagas))"
      ]
    },
    {
      "cell_type": "code",
      "execution_count": null,
      "metadata": {
        "id": "skVuYfc6rKFj"
      },
      "outputs": [],
      "source": [
        "''' Ordeom de Precedência\n",
        "1 ()\n",
        "2 **\n",
        "3 * / // %\n",
        "4 + - '''"
      ]
    },
    {
      "cell_type": "code",
      "execution_count": null,
      "metadata": {
        "id": "Rf9yd04xjgXo"
      },
      "outputs": [],
      "source": [
        "''' Entrada de dados '''\n",
        "%reset -f\n",
        "a = int(input('Insira sua idade: '))\n",
        "b = str(input('Insira seu nome: '))\n",
        "\n",
        "print('Olá {}, vejo que você tem exatamente {} anos de idade' .format(b, a))\n",
        "print(type(a))\n",
        "print(type(b))"
      ]
    },
    {
      "cell_type": "code",
      "execution_count": null,
      "metadata": {
        "id": "QkObEVcfpYuU"
      },
      "outputs": [],
      "source": [
        "''' Calculo do IMC'''\n",
        "'''IMC é a sigla para Índice de Massa Corpórea,\n",
        " parâmetro adotado pela Organização Mundial de \n",
        " Saúde para calcular o peso ideal de cada pessoa.'''\n",
        "%reset -f\n",
        "nome = str(input(\"Como te chamo?\"))\n",
        "altura = float(input('Olá {}, qual a sua altura? ' .format(nome) ))\n",
        "peso = float(input('E qual seu peso? '))\n",
        "\n",
        "imc = peso / ( altura * altura)\n",
        "\n",
        "print('Seu IMC é : {}' .format(imc))\n"
      ]
    },
    {
      "cell_type": "code",
      "execution_count": null,
      "metadata": {
        "id": "qYb4swt3HIwV"
      },
      "outputs": [],
      "source": [
        "''' Repetição'''\n",
        "%reset -f\n",
        "maior = 0\n",
        "menor = 0\n",
        "\n",
        "for x in range(1, 11):\n",
        "  c = float(input('Cliente {} Comprou quantos livros?'  .format(x)))\n",
        "  if x == 1:\n",
        "    maior = x\n",
        "    menor = x\n",
        "  else:\n",
        "      if c > maior:\n",
        "       maior = c\n",
        "       if c < menor:\n",
        "         menor = c\n",
        "print('O Melhor Cliente comprou {} livros' .format(maior))\n",
        "print('O Pior Cliente Comprou {} livros' .format(menor))\n",
        "      "
      ]
    },
    {
      "cell_type": "code",
      "execution_count": null,
      "metadata": {
        "colab": {
          "base_uri": "https://localhost:8080/"
        },
        "id": "1kzJSw-k_atr",
        "outputId": "e111fa7d-2e89-4063-9999-add65a05f458"
      },
      "outputs": [
        {
          "name": "stdout",
          "output_type": "stream",
          "text": [
            "['Ecosport', 'Corolla', 'RangeHover']\n"
          ]
        }
      ],
      "source": [
        "''' Eliminando Strings'''\n",
        "%reset -f\n",
        "carros = ['Fiesta', 'Ecosport', 'Corolla', 'RangeHover']\n",
        "carros.pop(0) \n",
        "print(carros)"
      ]
    },
    {
      "cell_type": "code",
      "execution_count": null,
      "metadata": {
        "colab": {
          "base_uri": "https://localhost:8080/"
        },
        "id": "GWJqASeTNorf",
        "outputId": "ac3081e7-d5b3-4b3a-a054-ace5dca8b1b0"
      },
      "outputs": [
        {
          "name": "stdout",
          "output_type": "stream",
          "text": [
            "Saudável\n"
          ]
        }
      ],
      "source": [
        "'Calculando IMC Através da função'\n",
        "\n",
        "w = 68\n",
        "h = 1.69\n",
        "def imc(w,h):\n",
        "  return w/(h*h)\n",
        "  \n",
        "\n",
        "imc = imc (w,h)\n",
        "\n",
        "if imc < 16:\n",
        "\tprint(\"Magreza grave\")\n",
        "elif imc < 17:\n",
        "\tprint(\"Magreza moderada\")\n",
        "elif imc < 18.5:\n",
        "\tprint(\"Magreza leve\")\n",
        "elif imc < 25:\n",
        "\tprint(\"Saudável\")\n",
        "elif imc < 30:\n",
        "\tprint(\"Sobrepeso\")\n",
        "elif imc < 35:\n",
        "  print(\"Obesidade Grau I\")"
      ]
    },
    {
      "cell_type": "code",
      "execution_count": null,
      "metadata": {
        "colab": {
          "base_uri": "https://localhost:8080/"
        },
        "id": "xhFg9_KbTNmV",
        "outputId": "8de4f0bb-58e5-4f02-c4b5-fd80b7fba0d7"
      },
      "outputs": [
        {
          "name": "stdout",
          "output_type": "stream",
          "text": [
            "  Clientes  ____________Livros Comprados na Semana\n",
            "0    Pedro                                       3\n",
            "1   Carlos                                       7\n",
            "2  Joaquin                                       2\n",
            "3    Diego                                       2\n",
            "4   Elaine                                      15\n",
            "5  Bárbara                                      30\n",
            "6  Juliana                                      15\n",
            "7  Patrick                                      50\n",
            "8  Augusto                                      13\n",
            "9    Zilda                                      25\n"
          ]
        }
      ],
      "source": [
        "import pandas as pd\n",
        "\n",
        "dados_cliente = {\n",
        "  'Clientes': [\"Pedro\", \"Carlos\", \"Joaquin\", \"Diego\", \"Elaine\", \"Bárbara\", \"Juliana\", \"Patrick\", \"Augusto\", \"Zilda\"],\n",
        "  \"____________\"\n",
        "  'Livros Comprados na Semana': [3, 7, 2, 2, 15, 30, 15, 50, 13, 25]\n",
        "}\n",
        "\n",
        "sequenciar = pd.DataFrame(dados_cliente)\n",
        "\n",
        "print(sequenciar)\n"
      ]
    },
    {
      "cell_type": "code",
      "execution_count": null,
      "metadata": {
        "colab": {
          "base_uri": "https://localhost:8080/"
        },
        "id": "iGFjftCebPKl",
        "outputId": "8a528bd8-d598-4c9d-9c2a-985ec1faf598"
      },
      "outputs": [
        {
          "name": "stdout",
          "output_type": "stream",
          "text": [
            "20 50\n"
          ]
        }
      ],
      "source": [
        "x = 50\n",
        "\n",
        "y = 20\n",
        "\n",
        "aux = x\n",
        "\n",
        "x = y\n",
        "\n",
        "y = aux\n",
        "\n",
        "print(x,y)"
      ]
    },
    {
      "cell_type": "code",
      "execution_count": null,
      "metadata": {
        "colab": {
          "base_uri": "https://localhost:8080/"
        },
        "id": "PxER8Dd8cwME",
        "outputId": "8bf1e364-f890-4760-b529-a744154a4198"
      },
      "outputs": [
        {
          "name": "stdout",
          "output_type": "stream",
          "text": [
            "50\n"
          ]
        }
      ],
      "source": [
        "x = 10\n",
        "\n",
        "y = 30\n",
        "\n",
        "x = x + 10\n",
        "\n",
        "y = x + 10\n",
        "\n",
        "x = x + y\n",
        "\n",
        "print(x)"
      ]
    },
    {
      "cell_type": "code",
      "execution_count": null,
      "metadata": {
        "colab": {
          "base_uri": "https://localhost:8080/"
        },
        "id": "3_aIPccicx47",
        "outputId": "8e77cec3-a3fb-4451-c24c-75f374d40a2f"
      },
      "outputs": [
        {
          "data": {
            "text/plain": [
              "float"
            ]
          },
          "execution_count": 5,
          "metadata": {},
          "output_type": "execute_result"
        }
      ],
      "source": [
        "x = 3.2\n",
        "type(x)"
      ]
    },
    {
      "cell_type": "code",
      "execution_count": null,
      "metadata": {
        "colab": {
          "base_uri": "https://localhost:8080/"
        },
        "id": "9to0Tb0Z2Suc",
        "outputId": "a297c30b-3855-4afe-b2a4-dbd5e164583b"
      },
      "outputs": [
        {
          "name": "stdout",
          "output_type": "stream",
          "text": [
            "2\n"
          ]
        }
      ],
      "source": [
        "x = 2*1**2\n",
        "print(x)"
      ]
    },
    {
      "cell_type": "code",
      "execution_count": null,
      "metadata": {
        "id": "Ds6azOSQAcnG"
      },
      "outputs": [],
      "source": [
        "'Algoritmo que realiza a média do faturamento Liquido Mensal de dados armaenados por dias, sendo asssim no total calculado a média já considereando '\n",
        "'os gastos de gasolina e desgaste do veículo.'\n",
        "\n",
        "import pandas as pd\n",
        "\n",
        "df = pd.read_excel('tudosãodados.xlsx')\n",
        "print(df)"
      ]
    },
    {
      "cell_type": "markdown",
      "metadata": {
        "id": "VXIzXjQpjlRF"
      },
      "source": [
        "**Os topicos abordados adiante são testes e\n",
        " exercícios do curso de Introdução de Ciências da Computação.**"
      ]
    },
    {
      "cell_type": "code",
      "execution_count": null,
      "metadata": {
        "id": "wcNG_H9bfB7-"
      },
      "outputs": [],
      "source": [
        "\n",
        "'Curso ciências da computação USP'\n",
        "'Exercício 2 Média'\n",
        "x0=float(input('Digite a primeira nota :'))\n",
        "\n",
        "x1=float(input('Dgite a segunda nota :'))\n",
        "\n",
        "x2=float(input('Dgite a terceira nota :'))\n",
        "\n",
        "x3=float(input('Dgite a quarta nota :'))\n",
        "\n",
        "MediaTotal=(x0+x1+x2+x3)/4\n",
        "\n",
        "print(\"Média aritmética é\",MediaTotal)\n",
        "\n",
        "\n"
      ]
    },
    {
      "cell_type": "code",
      "execution_count": null,
      "metadata": {
        "colab": {
          "base_uri": "https://localhost:8080/"
        },
        "id": "9RdLGHzPFTps",
        "outputId": "c9d83a81-6390-4603-e0d0-b628d42ab581"
      },
      "outputs": [
        {
          "name": "stdout",
          "output_type": "stream",
          "text": [
            "Insira um lado: 5\n",
            "Perimetro  20 Area 25\n"
          ]
        }
      ],
      "source": [
        "'Curso ciências da computação USP'\n",
        "'Exercício 2 Perimetro e área'\n",
        "lado = int(input(\"Insira um lado: \"))\n",
        "\n",
        "CalcArea = lado**2\n",
        "CalcPeri = lado*4\n",
        "\n",
        "print(\"Perimetro \",CalcPeri,\"Area\",CalcArea)"
      ]
    },
    {
      "cell_type": "code",
      "execution_count": null,
      "metadata": {
        "colab": {
          "base_uri": "https://localhost:8080/"
        },
        "id": "mzjzgl7NRwG0",
        "outputId": "c8f3c4a4-6d0e-48f2-c335-39ec7e3e8eb8"
      },
      "outputs": [
        {
          "name": "stdout",
          "output_type": "stream",
          "text": [
            "True\n"
          ]
        }
      ],
      "source": [
        "x = 10\n",
        "y = 15\n",
        "z = 25\n",
        "print(x == z - y and z != y - x or not y != z - x)"
      ]
    },
    {
      "cell_type": "code",
      "execution_count": null,
      "metadata": {
        "colab": {
          "base_uri": "https://localhost:8080/"
        },
        "id": "KCMXD7-tSUV0",
        "outputId": "1bc2c519-75b1-4bd2-da92-24f5694233bc"
      },
      "outputs": [
        {
          "name": "stdout",
          "output_type": "stream",
          "text": [
            "Digite um número 30\n",
            "Fizz\n"
          ]
        }
      ],
      "source": [
        "'Praticando comparações aritméticas'\n",
        "\n",
        "Numero = int(input(\"Digite um número \"))\n",
        "\n",
        "\n",
        "if Numero %3 == 0:\n",
        "  print(\"Fizz\")\n",
        "else:\n",
        "  print(Numero)"
      ]
    },
    {
      "cell_type": "code",
      "execution_count": null,
      "metadata": {
        "colab": {
          "base_uri": "https://localhost:8080/"
        },
        "id": "-FSa8_6Gjq7V",
        "outputId": "010453af-f995-4fb1-977e-e5ce777c3050"
      },
      "outputs": [
        {
          "name": "stdout",
          "output_type": "stream",
          "text": [
            "Digite um número 50\n",
            "FizzBuzz\n"
          ]
        }
      ],
      "source": [
        "Numero = int(input(\"Digite um número \"))\n",
        "\n",
        "\n",
        "if Numero %3 == 0 or Numero %5 == 0:\n",
        "  print(\"FizzBuzz\")\n",
        "else:\n",
        "  print(Numero)"
      ]
    },
    {
      "cell_type": "code",
      "execution_count": null,
      "metadata": {
        "colab": {
          "base_uri": "https://localhost:8080/"
        },
        "id": "9YWaUzVETl5l",
        "outputId": "c9c27037-281d-4dde-a0c2-41e48d1b69af"
      },
      "outputs": [
        {
          "name": "stdout",
          "output_type": "stream",
          "text": [
            "3\n",
            "0\n"
          ]
        }
      ],
      "source": [
        "i = 6\n",
        "while (i > 0):          \n",
        "    i = i - 3    \n",
        "    print (i) "
      ]
    },
    {
      "cell_type": "code",
      "execution_count": null,
      "metadata": {
        "colab": {
          "base_uri": "https://localhost:8080/"
        },
        "id": "xeRXcagVkurr",
        "outputId": "4e6c3da8-5f96-4674-fa73-3ca64fbc7b7c"
      },
      "outputs": [
        {
          "name": "stdout",
          "output_type": "stream",
          "text": [
            "0 Olá Mundo!\n",
            "1 Olá Mundo!\n",
            "2 Olá Mundo!\n",
            "3 Olá Mundo!\n",
            "4 Olá Mundo!\n",
            "5 Olá Mundo!\n",
            "6 Olá Mundo!\n",
            "7 Olá Mundo!\n",
            "8 Olá Mundo!\n",
            "9 Olá Mundo!\n",
            "10 Olá Mundo!\n"
          ]
        }
      ],
      "source": [
        "'Treinamentos de repetição'\n",
        "count = 0\n",
        "while (count <= 10):\n",
        "    print (count, \"Olá Mundo!\")\n",
        "    count = count + 1"
      ]
    },
    {
      "cell_type": "code",
      "execution_count": null,
      "metadata": {
        "colab": {
          "base_uri": "https://localhost:8080/"
        },
        "id": "aIANsPsjL6sm",
        "outputId": "08bb5da3-cf95-464a-ef86-e5234dcf18f3"
      },
      "outputs": [
        {
          "name": "stdout",
          "output_type": "stream",
          "text": [
            "Digite um número natural: 5\n",
            "O fatorial de  5  é:  120\n"
          ]
        }
      ],
      "source": [
        "def fatorial(n):\n",
        "    if n == 0:\n",
        "        return 1\n",
        "    else:\n",
        "        return n * fatorial(n-1)\n",
        "\n",
        "num = int(input(\"Digite um número natural: \"))\n",
        "resultado = fatorial(num)\n",
        "print(\"O fatorial de \",num,\" é: \", resultado)"
      ]
    },
    {
      "cell_type": "code",
      "execution_count": null,
      "metadata": {
        "colab": {
          "base_uri": "https://localhost:8080/"
        },
        "id": "ZAJG64abw1RB",
        "outputId": "d6eac7e7-b3b0-4834-abc9-4008fbfc4108"
      },
      "outputs": [
        {
          "name": "stdout",
          "output_type": "stream",
          "text": [
            "Digite o valor de n: 5\n",
            "1\n",
            "3\n",
            "5\n",
            "7\n",
            "9\n"
          ]
        }
      ],
      "source": [
        "n = int(input(\"Digite o valor de n: \"))\n",
        "\n",
        "i = 0\n",
        "ímpar = 1\n",
        "\n",
        "while i < n: \n",
        "  print(ímpar)\n",
        "  i = i + 1\n",
        "  ímpar = ímpar + 2"
      ]
    },
    {
      "cell_type": "code",
      "execution_count": null,
      "metadata": {
        "colab": {
          "base_uri": "https://localhost:8080/"
        },
        "id": "1xhs692Q-1Gu",
        "outputId": "6af9d7d0-bbaa-46a9-eb41-4a4de9cac164"
      },
      "outputs": [
        {
          "name": "stdout",
          "output_type": "stream",
          "text": [
            "receba m número: 123\n",
            "Total:  [123]\n"
          ]
        }
      ],
      "source": [
        "user_input = input(\"receba m número: \")\n",
        "\n",
        "numbers = list(map(int, user_input.split()))\n",
        "\n",
        "total = sum(numbers)\n",
        "\n",
        "print(\"Total: \", numbers)"
      ]
    },
    {
      "cell_type": "code",
      "execution_count": null,
      "metadata": {
        "colab": {
          "base_uri": "https://localhost:8080/"
        },
        "id": "x_9loDm9KeFM",
        "outputId": "0327bc57-b37f-4601-e9d9-9c853bd543a3"
      },
      "outputs": [
        {
          "name": "stdout",
          "output_type": "stream",
          "text": [
            "Enter integers separated by space: 1 2 3 4 5\n",
            "Total: 15\n"
          ]
        }
      ],
      "source": [
        "user_input = input(\"Digite um número inteiro: \")\n",
        "numbers = list(map(int, user_input.split()))\n",
        "total = sum(numbers)\n",
        "print(\"Total:\", total)"
      ]
    },
    {
      "cell_type": "code",
      "execution_count": null,
      "metadata": {
        "colab": {
          "base_uri": "https://localhost:8080/"
        },
        "id": "xmIMIItkUWxf",
        "outputId": "9f88d563-3a41-4ce6-8652-7e664828cd19"
      },
      "outputs": [
        {
          "name": "stdout",
          "output_type": "stream",
          "text": [
            "Digite um número inteiro: 111\n",
            "Total: 3\n"
          ]
        }
      ],
      "source": [
        "'Nesta linha de código, a variavel irá receber uma certa quantidade de numeros, e logo após i´ra imprimir todos eles somados'\n",
        "user_input = input(\"Digite um número inteiro: \")\n",
        "numbers = [int(i) for i in user_input if i.isdigit()]\n",
        "total = sum(numbers)\n",
        "print(\"Total:\", total)"
      ]
    },
    {
      "cell_type": "code",
      "execution_count": null,
      "metadata": {
        "id": "ZOVlSqYpPFRK"
      },
      "outputs": [],
      "source": [
        "def maximo(num1, num2):\n",
        "  if num1 > num2:\n",
        "        return num1\n",
        "  elif num2 > num1:\n",
        "        return num2\n",
        "  else:\n",
        "        return \"iguais\""
      ]
    },
    {
      "cell_type": "code",
      "execution_count": null,
      "metadata": {
        "colab": {
          "base_uri": "https://localhost:8080/"
        },
        "id": "MQcrd6k_x0z0",
        "outputId": "5b88011f-1b48-4edf-923f-edaddfac7548"
      },
      "outputs": [
        {
          "name": "stdout",
          "output_type": "stream",
          "text": [
            "Digite seu nome: Felipe Bispo Sousa \n",
            "felipe bispo sousa \n",
            "FELIPE BISPO SOUSA \n",
            "16\n",
            "Seu peimeiro nome é  Felipe  E contém  6 Letras\n"
          ]
        }
      ],
      "source": [
        "\"Esse algoritmo Irá receber um nome, soletrar e numerar\"\n",
        "x = input(\"Digite seu nome: \") \n",
        "nome_minusculo = x.lower()  #para diminuir\n",
        "nome_maiusculo = x.upper()  #para aumentar\n",
        "soletrar_e_numerar = x.replace(' ', '') #para remover os espaços para realizar a contagem\n",
        "primeiro_nome = x.split()[0] #seleciona somente o primeiro nome\n",
        "print(nome_minusculo) \n",
        "print(nome_maiusculo) \n",
        "print(len(soletrar_e_numerar)) # len() para enumerar \n",
        "print(\"Seu peimeiro nome é \",primeiro_nome,\" e contém \", len(primeiro_nome), \"letras\" )"
      ]
    },
    {
      "cell_type": "code",
      "execution_count": null,
      "metadata": {
        "colab": {
          "base_uri": "https://localhost:8080/"
        },
        "id": "U5I-325lzBFN",
        "outputId": "d472ac36-4f25-4571-b240-b012c0d8ff36"
      },
      "outputs": [
        {
          "name": "stdout",
          "output_type": "stream",
          "text": [
            "Primeiro número = 10\n",
            "Segundo número = 10\n",
            "Terceiro número = 10\n",
            "30.0\n"
          ]
        }
      ],
      "source": [
        "def soma(num1, num2, num3):\n",
        "    return num1 + num2 + num3\n",
        "\n",
        "def main():\n",
        "    n1 = float(input(\"Primeiro número = \"))\n",
        "    n2 = float(input(\"Segundo número = \"))\n",
        "    n3 = float(input(\"Terceiro número = \"))\n",
        "    print (soma(n1, n2, n3))\n",
        "\n",
        "main()"
      ]
    },
    {
      "cell_type": "code",
      "execution_count": null,
      "metadata": {
        "colab": {
          "background_save": true,
          "base_uri": "https://localhost:8080/"
        },
        "id": "Wl7pndtsEWoU",
        "outputId": "cd221d79-a185-4289-c30e-92c382961e50"
      },
      "outputs": [
        {
          "name": "stdout",
          "output_type": "stream",
          "text": [
            "Bem-vindo ao jogo do NIM! Escolha:\n",
            "\n",
            "1 - para jogar uma partida isolada\n",
            "2 - para jogar um campeonato\n",
            "\n",
            "Você escolheu um campeonato!\n",
            "\n",
            "**** Rodada 1 ****\n",
            "\n",
            "Você começa!\n",
            "Você tirou 1 peça(s).\n",
            "Agora resta apenas uma peça no tabuleiro.\n",
            "\n",
            "O computador tirou 1 peça(s).\n",
            "Fim do jogo! Você ganhou!\n",
            "**** Rodada 2 ****\n",
            "\n",
            "Computador começa!\n",
            "O computador tirou 2 peça(s).\n",
            "Fim do jogo! Você ganhou!\n",
            "**** Rodada 3 ****\n"
          ]
        }
      ],
      "source": [
        "import random\n",
        "\n",
        "def computador_escolhe_jogada(n, m):\n",
        "    if n <= m:\n",
        "        return n\n",
        "    else:\n",
        "        limite = n % (m+1)\n",
        "        if limite == 0:\n",
        "            return m\n",
        "        else:\n",
        "            return limite\n",
        "        \n",
        "def usuario_escolhe_jogada(n, m):\n",
        "    jogada = int(input(\"Quantas peças você vai tirar? \"))\n",
        "    while jogada > m or jogada <= 0 or jogada > n:\n",
        "        print(\"Oops! Jogada inválida! Tente de novo.\")\n",
        "        jogada = int(input(\"Quantas peças você vai tirar? \"))\n",
        "    return jogada\n",
        "\n",
        "def partida():\n",
        "    n = int(input(\"Quantas peças? \"))\n",
        "    m = int(input(\"Limite de peças por jogada? \"))\n",
        "    if n % (m+1) == 0:\n",
        "        print(\"\\nVocê começa!\\n\")\n",
        "        vez_do_usuario = True\n",
        "    else:\n",
        "        print(\"\\nComputador começa!\\n\")\n",
        "        vez_do_usuario = False\n",
        "    while n > 0:\n",
        "        if vez_do_usuario:\n",
        "            jogada = usuario_escolhe_jogada(n, m)\n",
        "            n = n - jogada\n",
        "            vez_do_usuario = False\n",
        "            print(\"\\nVocê tirou\", jogada, \"peça(s).\")\n",
        "        else:\n",
        "            jogada = computador_escolhe_jogada(n, m)\n",
        "            n = n - jogada\n",
        "            vez_do_usuario = True\n",
        "            print(\"\\nO computador tirou\", jogada, \"peça(s).\")\n",
        "        print(\"Agora restam\", n, \"peça(s) no tabuleiro.\\n\")\n",
        "    if vez_do_usuario:\n",
        "        print(\"Fim do jogo! O computador ganhou!\")\n",
        "        return 0\n",
        "    else:\n",
        "        print(\"Fim do jogo! Você ganhou!\")\n",
        "        return 1\n",
        "\n",
        "def campeonato():\n",
        "    placar_usuario = 0\n",
        "    placar_computador = 0\n",
        "    for i in range(1, 4):\n",
        "        print(\"**** Rodada\", i, \"****\\n\")\n",
        "        resultado_partida = partida()\n",
        "        if resultado_partida == 0:\n",
        "            placar_computador += 1\n",
        "        else:\n",
        "            placar_usuario += 1\n",
        "    print(\"**** Final do campeonato! ****\\n\")\n",
        "    print(\"Placar: Você\", placar_usuario, \"X\", placar_computador, \"Computador\")\n",
        "\n",
        "print(\"Bem-vindo ao jogo do NIM! Escolha:\\n\")\n",
        "print(\"1 - para jogar uma partida isolada\")\n",
        "print(\"2 - para jogar um campeonato\\n\")\n",
        "\n",
        "opcao = int(input())\n",
        "if opcao == 1:\n",
        "    print(\"\\nVocê escolheu uma partida isolada!\\n\")\n",
        "    partida()\n",
        "else:\n",
        "    print(\"\\nVocê escolheu um campeonato!\\n\")\n",
        "    campeonato()\n"
      ]
    },
    {
      "cell_type": "code",
      "source": [
        "fora = 5\n",
        "while fora > 0:\n",
        "  dentro = 0\n",
        "  while dentro < fora:\n",
        "    print(\"oi\")\n",
        "    dentro = dentro + 1\n",
        "  fora = fora - 1"
      ],
      "metadata": {
        "id": "4DhhbgMlfVCH",
        "outputId": "58122d08-0c45-41f7-a47e-bdfa2f444b73",
        "colab": {
          "base_uri": "https://localhost:8080/"
        }
      },
      "execution_count": null,
      "outputs": [
        {
          "output_type": "stream",
          "name": "stdout",
          "text": [
            "oi\n",
            "oi\n",
            "oi\n",
            "oi\n",
            "oi\n",
            "oi\n",
            "oi\n",
            "oi\n",
            "oi\n",
            "oi\n",
            "oi\n",
            "oi\n",
            "oi\n",
            "oi\n",
            "oi\n"
          ]
        }
      ]
    },
    {
      "cell_type": "code",
      "source": [
        "pares = [2, 4, 6, 8, 10, 12, 14, 16, 18, 20, 22, 24, 26, 28, 30]\n",
        "for x in range(len(pares)):\n",
        "    print(pares[x])"
      ],
      "metadata": {
        "colab": {
          "base_uri": "https://localhost:8080/"
        },
        "id": "ZOKpPaWqTyXU",
        "outputId": "ac30ac23-6fdc-41d0-d28e-56b0177b5239"
      },
      "execution_count": null,
      "outputs": [
        {
          "output_type": "stream",
          "name": "stdout",
          "text": [
            "2\n",
            "4\n",
            "6\n",
            "8\n",
            "10\n",
            "12\n",
            "14\n",
            "16\n",
            "18\n",
            "20\n",
            "22\n",
            "24\n",
            "26\n",
            "28\n",
            "30\n"
          ]
        }
      ]
    },
    {
      "cell_type": "code",
      "source": [
        "pares = [2, 4, 6, 8, 10, 12, 14, 16, 18, 20, 22, 24, 26, 28, 30]\n",
        "for x in range(5, 10):\n",
        "    print(pares[x])"
      ],
      "metadata": {
        "colab": {
          "base_uri": "https://localhost:8080/"
        },
        "id": "30g8jQNExgix",
        "outputId": "98d0ac6a-cea5-446b-a9e3-44300fcf8700"
      },
      "execution_count": null,
      "outputs": [
        {
          "output_type": "stream",
          "name": "stdout",
          "text": [
            "12\n",
            "14\n",
            "16\n",
            "18\n",
            "20\n"
          ]
        }
      ]
    },
    {
      "cell_type": "code",
      "source": [
        "lista1 = [\"carro\", \"barco\"]\n",
        "lista2 = [[\"carro\", \"barco\"], [\"carro\", \"barco\"], [\"carro\", \"barco\"]]\n",
        "lista3 = [\"carro\", \"barco\", \"carro\", \"barco\", \"carro\", \"barco\"]\n",
        "lista1[1] = \"metrô\"\n",
        "\n",
        "print(lista1)\n",
        "print(lista2)\n",
        "print(lista3)\n",
        "\n"
      ],
      "metadata": {
        "colab": {
          "base_uri": "https://localhost:8080/"
        },
        "id": "-kJcMo7w2cVD",
        "outputId": "a3b7afde-9ce5-494f-ce49-736d057a3381"
      },
      "execution_count": null,
      "outputs": [
        {
          "output_type": "stream",
          "name": "stdout",
          "text": [
            "['carro', 'metrô']\n",
            "[['carro', 'barco'], ['carro', 'barco'], ['carro', 'barco']]\n",
            "['carro', 'barco', 'carro', 'barco', 'carro', 'barco']\n"
          ]
        }
      ]
    },
    {
      "cell_type": "code",
      "source": [
        "import re\n",
        "\n",
        "def le_assinatura():\n",
        "    '''A funcao le os valores dos tracos linguisticos do modelo e devolve uma assinatura a ser comparada com os textos fornecidos'''\n",
        "    print(\"Bem-vindo ao detector automático de COH-PIAH.\")\n",
        "    print(\"Informe a assinatura típica de um aluno infectado:\")\n",
        "\n",
        "    wal = float(input(\"Entre o tamanho médio de palavra:\"))\n",
        "    ttr = float(input(\"Entre a relação Type-Token:\"))\n",
        "    hlr = float(input(\"Entre a Razão Hapax Legomana:\"))\n",
        "    sal = float(input(\"Entre o tamanho médio de sentença:\"))\n",
        "    sac = float(input(\"Entre a complexidade média da sentença:\"))\n",
        "    pal = float(input(\"Entre o tamanho medio de frase:\"))\n",
        "\n",
        "    return [wal, ttr, hlr, sal, sac, pal]\n",
        "\n",
        "def le_textos():\n",
        "    '''A funcao le todos os textos a serem comparados e devolve uma lista contendo cada texto como um elemento'''\n",
        "    i = 1\n",
        "    textos = []\n",
        "    texto = input(\"Digite o texto \" + str(i) +\" (aperte enter para sair):\")\n",
        "    while texto:\n",
        "        textos.append(texto)\n",
        "        i += 1\n",
        "        texto = input(\"Digite o texto \" + str(i) +\" (aperte enter para sair):\")\n",
        "\n",
        "    return textos\n",
        "\n",
        "def separa_sentencas(texto):\n",
        "    '''A funcao recebe um texto e devolve uma lista das sentencas dentro do texto'''\n",
        "    sentencas = re.split(r'[.!?]+', texto)\n",
        "    if sentencas[-1] == '':\n",
        "        del sentencas[-1]\n",
        "    return sentencas\n",
        "\n",
        "def separa_frases(sentenca):\n",
        "    '''A funcao recebe uma sentenca e devolve uma lista das frases dentro da sentenca'''\n",
        "    return re.split(r'[,:;]+', sentenca)\n",
        "\n",
        "def separa_palavras(frase):\n",
        "    '''A funcao recebe uma frase e devolve uma lista das palavras dentro da frase'''\n",
        "    return frase.split()\n",
        "\n",
        "def n_palavras_unicas(lista_palavras):\n",
        "    '''Essa funcao recebe uma lista de palavras e devolve o numero de palavras que aparecem uma unica vez'''\n",
        "    freq = dict()\n",
        "    unicas = 0\n",
        "    for palavra in lista_palavras:\n",
        "        p = palavra.lower()\n",
        "        if p in freq:\n",
        "            if freq[p] == 1:\n",
        "                unicas -= 1\n",
        "            freq[p] += 1\n",
        "        else:\n",
        "            freq[p] = 1\n",
        "            unicas += 1\n",
        "\n",
        "    return unicas\n",
        "\n",
        "def n_palavras_diferentes(lista_palavras):\n",
        "    '''Essa funcao recebe uma lista de palavras e devolve o numero de palavras diferentes utilizadas'''\n",
        "    freq = dict()\n",
        "    for palavra in lista_palavras:\n",
        "        p = palavra.lower()\n",
        "        if p in freq:\n",
        "            freq[p] += 1\n",
        "        else:\n",
        "            freq[p] = 1\n",
        "\n",
        "    return len(freq)\n",
        "\n",
        "def compara_assinatura(as_a, as_b):\n",
        "    Δ = abs(wal_a - wal_b) + abs(ttr_a - ttr_b) + abs(hlr_a - hlr_b) + abs(sal_a - sal_b) + abs(sac_a - sac_b) + abs(pal_a - pal_b)\n",
        "\n",
        "    similaridade = Δ / 6\n",
        "\n",
        "def calcula_assinatura(texto):\n",
        "    sentencas = separa_sentencas(texto)\n",
        "    frases = []\n",
        "    palavras = []\n",
        "    total_caracteres_sentencas = 0\n",
        "\n",
        "    for sentenca in sentencas:\n",
        "        frases += separa_frases(sentenca)\n",
        "        total_caracteres_sentencas += len(sentenca)\n",
        "\n",
        "    for frase in frases:\n",
        "        palavras += separa_palavras(frase)\n",
        "\n",
        "    tamanho_medio_palavra = sum(len(palavra) for palavra in palavras) / len(palavras)\n",
        "    type_token = n_palavras_diferentes(palavras) / len(palavras)\n",
        "    hapax_legomana = n_palavras_unicas(palavras) / len(palavras)\n",
        "    tamanho_medio_sentenca = total_caracteres_sentencas / len(sentencas)\n",
        "    complexidade_sentenca = len(frases) / len(sentencas)\n",
        "    tamanho_medio_frase = sum(len(frase) for frase in frases) / len(frases)\n",
        "\n",
        "    return [tamanho_medio_palavra, type_token, hapax_legomana, tamanho_medio_sentenca, complexidade_sentenca, tamanho_medio_frase]\n",
        "def avalia_textos(textos, ass_cp):\n",
        "    '''Essa funcao recebe uma lista de textos e uma assinatura ass_cp e deve devolver o numero (1 a n) do texto com maior probabilidade de ter sido infectado por COH-PIAH.'''\n",
        "    similaridades = []\n",
        "    for texto in textos:\n",
        "        assinatura = calcula_assinatura(texto)\n",
        "        similaridade = compara_assinatura(ass_cp, assinatura)\n",
        "        similaridades.append(similaridade)"
      ],
      "metadata": {
        "id": "n4KowNQcCxyy"
      },
      "execution_count": null,
      "outputs": []
    },
    {
      "cell_type": "code",
      "source": [
        "import re\n",
        "\n",
        "def le_assinatura():\n",
        "    '''A funcao le os valores dos tracos linguisticos do modelo e devolve uma assinatura a ser comparada com os textos fornecidos'''\n",
        "    print(\"Bem-vindo ao detector automático de COH-PIAH.\")\n",
        "    print(\"Informe a assinatura típica de um aluno infectado:\")\n",
        "\n",
        "    wal = float(input(\"Entre o tamanho médio de palavra:\"))\n",
        "    ttr = float(input(\"Entre a relação Type-Token:\"))\n",
        "    hlr = float(input(\"Entre a Razão Hapax Legomana:\"))\n",
        "    sal = float(input(\"Entre o tamanho médio de sentença:\"))\n",
        "    sac = float(input(\"Entre a complexidade média da sentença:\"))\n",
        "    pal = float(input(\"Entre o tamanho medio de frase:\"))\n",
        "\n",
        "    return [wal, ttr, hlr, sal, sac, pal]\n",
        "\n",
        "def le_textos():\n",
        "    '''A funcao le todos os textos a serem comparados e devolve uma lista contendo cada texto como um elemento'''\n",
        "    i = 1\n",
        "    textos = []\n",
        "    texto = input(\"Digite o texto \" + str(i) +\" (aperte enter para sair):\")\n",
        "    while texto:\n",
        "        textos.append(texto)\n",
        "        i += 1\n",
        "        texto = input(\"Digite o texto \" + str(i) +\" (aperte enter para sair):\")\n",
        "\n",
        "    return textos\n",
        "\n",
        "def separa_sentencas(texto):\n",
        "    '''A funcao recebe um texto e devolve uma lista das sentencas dentro do texto'''\n",
        "    sentencas = re.split(r'[.!?]+', texto)\n",
        "    if sentencas[-1] == '':\n",
        "        del sentencas[-1]\n",
        "    return sentencas\n",
        "\n",
        "def separa_frases(sentenca):\n",
        "    '''A funcao recebe uma sentenca e devolve uma lista das frases dentro da sentenca'''\n",
        "    return re.split(r'[,:;]+', sentenca)\n",
        "\n",
        "def separa_palavras(frase):\n",
        "    '''A funcao recebe uma frase e devolve uma lista das palavras dentro da frase'''\n",
        "    return frase.split()\n",
        "\n",
        "def n_palavras_unicas(lista_palavras):\n",
        "    '''Essa funcao recebe uma lista de palavras e devolve o numero de palavras que aparecem uma unica vez'''\n",
        "    freq = dict()\n",
        "    unicas = 0\n",
        "    for palavra in lista_palavras:\n",
        "        p = palavra.lower()\n",
        "        if p in freq:\n",
        "            if freq[p] == 1:\n",
        "                unicas -= 1\n",
        "            freq[p] += 1\n",
        "        else:\n",
        "            freq[p] = 1\n",
        "            unicas += 1\n",
        "\n",
        "    return unicas\n",
        "\n",
        "def n_palavras_diferentes(lista_palavras):\n",
        "    '''Essa funcao recebe uma lista de palavras e devolve o numero de palavras diferentes utilizadas'''\n",
        "    freq = dict()\n",
        "    for palavra in lista_palavras:\n",
        "        p = palavra.lower()\n",
        "        if p in freq:\n",
        "            freq[p] += 1\n",
        "        else:\n",
        "            freq[p] = 1\n",
        "\n",
        "    return len(freq)\n",
        "\n",
        "def compara_assinatura(as_a, as_b):\n",
        "   similaridades = []\n",
        "   for i in range(as_a):\n",
        "       similaridade = 0\n",
        "       for j in range(as_a):\n",
        "           similaridade += abs(as_a[i] - as_b[j])\n",
        "       similaridade /= 6\n",
        "       similaridades.append(similaridade)\n",
        "   return similaridades\n",
        "\n",
        "       \n",
        "def calcula_assinatura(texto):\n",
        "    sentencas = separa_sentencas(texto)\n",
        "    frases = []\n",
        "    palavras = []\n",
        "    total_caracteres_sentencas = 0\n",
        "\n",
        "    for sentenca in sentencas:\n",
        "        frases += separa_frases(sentenca)\n",
        "        total_caracteres_sentencas += len(sentenca)\n",
        "\n",
        "    for frase in frases:\n",
        "        palavras += separa_palavras(frase)\n",
        "\n",
        "    tamanho_medio_palavra = sum(len(palavra) for palavra in palavras) / len(palavras)\n",
        "    type_token = n_palavras_diferentes(palavras) / len(palavras)\n",
        "    hapax_legomana = n_palavras_unicas(palavras) / len(palavras)\n",
        "    tamanho_medio_sentenca = total_caracteres_sentencas / len(sentencas)\n",
        "    complexidade_sentenca = len(frases) / len(sentencas)\n",
        "    tamanho_medio_frase = sum(len(frase) for frase in frases) / len(frases)\n",
        "\n",
        "    return [tamanho_medio_palavra, type_token, hapax_legomana, tamanho_medio_sentenca, complexidade_sentenca, tamanho_medio_frase]\n",
        "def avalia_textos(textos, ass_cp):\n",
        "    '''Essa funcao recebe uma lista de textos e uma assinatura ass_cp e deve devolver o numero (1 a n) do texto com maior probabilidade de ter sido infectado por COH-PIAH.'''\n",
        "    similaridades = []\n",
        "    for texto in textos:\n",
        "        assinatura = calcula_assinatura(texto)\n",
        "        similaridade = compara_assinatura(ass_cp, assinatura)\n",
        "        similaridades.append(similaridade)"
      ],
      "metadata": {
        "id": "Gs2TS3fjE2wv"
      },
      "execution_count": null,
      "outputs": []
    }
  ],
  "metadata": {
    "colab": {
      "provenance": [],
      "authorship_tag": "ABX9TyMLcEUM0XaHtL8gCohHhYzn",
      "include_colab_link": true
    },
    "kernelspec": {
      "display_name": "Python 3",
      "name": "python3"
    },
    "language_info": {
      "name": "python"
    }
  },
  "nbformat": 4,
  "nbformat_minor": 0
}