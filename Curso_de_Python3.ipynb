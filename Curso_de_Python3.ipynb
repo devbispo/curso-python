{
  "cells": [
    {
      "cell_type": "markdown",
      "metadata": {
        "id": "view-in-github",
        "colab_type": "text"
      },
      "source": [
        "<a href=\"https://colab.research.google.com/github/devbispo/curso-python/blob/main/Curso_de_Python3.ipynb\" target=\"_parent\"><img src=\"https://colab.research.google.com/assets/colab-badge.svg\" alt=\"Open In Colab\"/></a>"
      ]
    },
    {
      "cell_type": "code",
      "execution_count": null,
      "metadata": {
        "id": "nM2DPsrMDW04"
      },
      "outputs": [],
      "source": [
        "%reset -f\n",
        "Vagas1=['FIESTA', 'CORSA', 'ECO SPORT', 'CERATTO', 'FORD FOCUS']\n",
        "\n",
        "print(Vagas1[4])"
      ]
    },
    {
      "cell_type": "code",
      "execution_count": null,
      "metadata": {
        "id": "XFb6L0leDJVQ"
      },
      "outputs": [],
      "source": [
        "%reset -f\n",
        "vaga1 = int( input('Insira um valor : '))\n",
        "vaga2 = int ( input('Insira o segundo valor : '))\n",
        "vagas = vaga1 + vaga2\n",
        "print('A soma vale {} ' .format(vagas))"
      ]
    },
    {
      "cell_type": "code",
      "execution_count": null,
      "metadata": {
        "id": "skVuYfc6rKFj"
      },
      "outputs": [],
      "source": [
        "''' Ordeom de Precedência\n",
        "1 ()\n",
        "2 **\n",
        "3 * / // %\n",
        "4 + - '''"
      ]
    },
    {
      "cell_type": "code",
      "execution_count": null,
      "metadata": {
        "id": "Rf9yd04xjgXo"
      },
      "outputs": [],
      "source": [
        "''' Entrada de dados '''\n",
        "%reset -f\n",
        "a = int(input('Insira sua idade: '))\n",
        "b = str(input('Insira seu nome: '))\n",
        "\n",
        "print('Olá {}, vejo que você tem exatamente {} anos de idade' .format(b, a))\n",
        "print(type(a))\n",
        "print(type(b))"
      ]
    },
    {
      "cell_type": "code",
      "execution_count": null,
      "metadata": {
        "id": "QkObEVcfpYuU"
      },
      "outputs": [],
      "source": [
        "''' Calculo do IMC'''\n",
        "'''IMC é a sigla para Índice de Massa Corpórea,\n",
        " parâmetro adotado pela Organização Mundial de \n",
        " Saúde para calcular o peso ideal de cada pessoa.'''\n",
        "%reset -f\n",
        "nome = str(input(\"Como te chamo?\"))\n",
        "altura = float(input('Olá {}, qual a sua altura? ' .format(nome) ))\n",
        "peso = float(input('E qual seu peso? '))\n",
        "\n",
        "imc = peso / ( altura * altura)\n",
        "\n",
        "print('Seu IMC é : {}' .format(imc))\n"
      ]
    },
    {
      "cell_type": "code",
      "execution_count": null,
      "metadata": {
        "id": "qYb4swt3HIwV"
      },
      "outputs": [],
      "source": [
        "''' Repetição'''\n",
        "%reset -f\n",
        "for x in range(11):\n",
        "  print('Sequencia {}' .format(x))"
      ]
    },
    {
      "cell_type": "code",
      "execution_count": null,
      "metadata": {
        "colab": {
          "base_uri": "https://localhost:8080/"
        },
        "id": "1kzJSw-k_atr",
        "outputId": "e111fa7d-2e89-4063-9999-add65a05f458"
      },
      "outputs": [
        {
          "output_type": "stream",
          "name": "stdout",
          "text": [
            "['Ecosport', 'Corolla', 'RangeHover']\n"
          ]
        }
      ],
      "source": [
        "''' Eliminando Strings'''\n",
        "%reset -f\n",
        "carros = ['Fiesta', 'Ecosport', 'Corolla', 'RangeHover']\n",
        "carros.pop(0) \n",
        "print(carros)"
      ]
    },
    {
      "cell_type": "code",
      "source": [
        "'Calculando IMC Através da function'\n",
        "\n",
        "w = 72\n",
        "h = 1.69\n",
        "def imcf(w,h):\n",
        "  imcc = w/(h*h)\n",
        "  return imcc\n",
        "\n",
        "imc = imcf (w,h)\n",
        "\n",
        "if imc < 16:\n",
        "\tprint(\"Magreza grave\")\n",
        "elif imc < 17:\n",
        "\tprint(\"Magreza moderada\")\n",
        "elif imc < 18.5:\n",
        "\tprint(\"Magreza leve\")\n",
        "elif imc < 25:\n",
        "\tprint(\"Saudável\")\n",
        "elif imc < 30:\n",
        "\tprint(\"Sobrepeso\")\n",
        "elif imc < 35:\n",
        "  print(\"Obesidade Grau I\")"
      ],
      "metadata": {
        "colab": {
          "base_uri": "https://localhost:8080/"
        },
        "id": "GWJqASeTNorf",
        "outputId": "bdf776d6-7325-4805-a153-55933040eade"
      },
      "execution_count": 32,
      "outputs": [
        {
          "output_type": "stream",
          "name": "stdout",
          "text": [
            "Sobrepeso\n"
          ]
        }
      ]
    }
  ],
  "metadata": {
    "colab": {
      "name": "Curso de Python3",
      "provenance": [],
      "authorship_tag": "ABX9TyN+iCLjbY9UiqGazLcIt6rp",
      "include_colab_link": true
    },
    "kernelspec": {
      "display_name": "Python 3",
      "name": "python3"
    },
    "language_info": {
      "name": "python"
    }
  },
  "nbformat": 4,
  "nbformat_minor": 0
}