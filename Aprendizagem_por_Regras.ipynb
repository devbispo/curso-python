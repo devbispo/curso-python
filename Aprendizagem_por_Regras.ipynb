{
  "nbformat": 4,
  "nbformat_minor": 0,
  "metadata": {
    "colab": {
      "name": "Aprendizagem-por-Regras",
      "provenance": [],
      "authorship_tag": "ABX9TyPLkN67mUMOTt9W0cddTiKH",
      "include_colab_link": true
    },
    "kernelspec": {
      "name": "python3",
      "display_name": "Python 3"
    },
    "language_info": {
      "name": "python"
    }
  },
  "cells": [
    {
      "cell_type": "markdown",
      "metadata": {
        "id": "view-in-github",
        "colab_type": "text"
      },
      "source": [
        "<a href=\"https://colab.research.google.com/github/devbispo/curso-python/blob/main/Aprendizagem_por_Regras.ipynb\" target=\"_parent\"><img src=\"https://colab.research.google.com/assets/colab-badge.svg\" alt=\"Open In Colab\"/></a>"
      ]
    },
    {
      "cell_type": "code",
      "execution_count": 1,
      "metadata": {
        "colab": {
          "base_uri": "https://localhost:8080/"
        },
        "id": "h-08M9IzEK6u",
        "outputId": "e7d6d95c-47ef-494c-a01c-2111b3326b41"
      },
      "outputs": [
        {
          "output_type": "stream",
          "name": "stdout",
          "text": [
            "Requirement already satisfied: orange3 in /usr/local/lib/python3.7/dist-packages (3.32.0)\n",
            "Requirement already satisfied: keyrings.alt in /usr/local/lib/python3.7/dist-packages (from orange3) (4.1.0)\n",
            "Requirement already satisfied: openpyxl in /usr/local/lib/python3.7/dist-packages (from orange3) (3.0.9)\n",
            "Requirement already satisfied: PyQtWebEngine>=5.12 in /usr/local/lib/python3.7/dist-packages (from orange3) (5.15.5)\n",
            "Requirement already satisfied: pip>=18.0 in /usr/local/lib/python3.7/dist-packages (from orange3) (21.1.3)\n",
            "Requirement already satisfied: openTSNE>=0.6.1 in /usr/local/lib/python3.7/dist-packages (from orange3) (0.6.2)\n",
            "Requirement already satisfied: keyring in /usr/local/lib/python3.7/dist-packages (from orange3) (23.5.0)\n",
            "Requirement already satisfied: xlsxwriter in /usr/local/lib/python3.7/dist-packages (from orange3) (3.0.3)\n",
            "Requirement already satisfied: baycomp>=1.0.2 in /usr/local/lib/python3.7/dist-packages (from orange3) (1.0.2)\n",
            "Requirement already satisfied: setuptools>=41.0.0 in /usr/local/lib/python3.7/dist-packages (from orange3) (57.4.0)\n",
            "Requirement already satisfied: bottleneck>=1.3.2 in /usr/local/lib/python3.7/dist-packages (from orange3) (1.3.4)\n",
            "Requirement already satisfied: scipy>=1.3.1 in /usr/local/lib/python3.7/dist-packages (from orange3) (1.4.1)\n",
            "Requirement already satisfied: serverfiles in /usr/local/lib/python3.7/dist-packages (from orange3) (0.3.1)\n",
            "Requirement already satisfied: python-louvain>=0.13 in /usr/local/lib/python3.7/dist-packages (from orange3) (0.16)\n",
            "Requirement already satisfied: qtconsole>=4.7.2 in /usr/local/lib/python3.7/dist-packages (from orange3) (5.3.0)\n",
            "Requirement already satisfied: joblib>=0.11 in /usr/local/lib/python3.7/dist-packages (from orange3) (1.1.0)\n",
            "Requirement already satisfied: pyyaml in /usr/local/lib/python3.7/dist-packages (from orange3) (3.13)\n",
            "Requirement already satisfied: requests in /usr/local/lib/python3.7/dist-packages (from orange3) (2.23.0)\n",
            "Requirement already satisfied: networkx in /usr/local/lib/python3.7/dist-packages (from orange3) (2.6.3)\n",
            "Requirement already satisfied: pygments>=2.8.0 in /usr/local/lib/python3.7/dist-packages (from orange3) (2.11.2)\n",
            "Requirement already satisfied: httpx>=0.21.0 in /usr/local/lib/python3.7/dist-packages (from orange3) (0.22.0)\n",
            "Requirement already satisfied: matplotlib>=2.2.5 in /usr/local/lib/python3.7/dist-packages (from orange3) (3.2.2)\n",
            "Requirement already satisfied: numpy>=1.17.3 in /usr/local/lib/python3.7/dist-packages (from orange3) (1.21.6)\n",
            "Requirement already satisfied: pandas>=1.3.0 in /usr/local/lib/python3.7/dist-packages (from orange3) (1.3.5)\n",
            "Requirement already satisfied: orange-canvas-core<0.2a,>=0.1.24 in /usr/local/lib/python3.7/dist-packages (from orange3) (0.1.26)\n",
            "Requirement already satisfied: scikit-learn>=1.0.1 in /usr/local/lib/python3.7/dist-packages (from orange3) (1.0.2)\n",
            "Requirement already satisfied: xlrd>=0.9.2 in /usr/local/lib/python3.7/dist-packages (from orange3) (1.1.0)\n",
            "Requirement already satisfied: PyQt5!=5.15.1,>=5.12 in /usr/local/lib/python3.7/dist-packages (from orange3) (5.15.6)\n",
            "Requirement already satisfied: orange-widget-base>=4.16.1 in /usr/local/lib/python3.7/dist-packages (from orange3) (4.16.1)\n",
            "Requirement already satisfied: AnyQt>=0.0.13 in /usr/local/lib/python3.7/dist-packages (from orange3) (0.1.0)\n",
            "Requirement already satisfied: pyqtgraph!=0.12.4,>=0.11.1 in /usr/local/lib/python3.7/dist-packages (from orange3) (0.12.3)\n",
            "Requirement already satisfied: chardet>=3.0.2 in /usr/local/lib/python3.7/dist-packages (from orange3) (3.0.4)\n",
            "Requirement already satisfied: sniffio in /usr/local/lib/python3.7/dist-packages (from httpx>=0.21.0->orange3) (1.2.0)\n",
            "Requirement already satisfied: httpcore<0.15.0,>=0.14.5 in /usr/local/lib/python3.7/dist-packages (from httpx>=0.21.0->orange3) (0.14.7)\n",
            "Requirement already satisfied: rfc3986[idna2008]<2,>=1.3 in /usr/local/lib/python3.7/dist-packages (from httpx>=0.21.0->orange3) (1.5.0)\n",
            "Requirement already satisfied: charset-normalizer in /usr/local/lib/python3.7/dist-packages (from httpx>=0.21.0->orange3) (2.0.12)\n",
            "Requirement already satisfied: certifi in /usr/local/lib/python3.7/dist-packages (from httpx>=0.21.0->orange3) (2021.10.8)\n",
            "Requirement already satisfied: h11<0.13,>=0.11 in /usr/local/lib/python3.7/dist-packages (from httpcore<0.15.0,>=0.14.5->httpx>=0.21.0->orange3) (0.12.0)\n",
            "Requirement already satisfied: anyio==3.* in /usr/local/lib/python3.7/dist-packages (from httpcore<0.15.0,>=0.14.5->httpx>=0.21.0->orange3) (3.5.0)\n",
            "Requirement already satisfied: typing-extensions in /usr/local/lib/python3.7/dist-packages (from anyio==3.*->httpcore<0.15.0,>=0.14.5->httpx>=0.21.0->orange3) (4.1.1)\n",
            "Requirement already satisfied: idna>=2.8 in /usr/local/lib/python3.7/dist-packages (from anyio==3.*->httpcore<0.15.0,>=0.14.5->httpx>=0.21.0->orange3) (2.10)\n",
            "Requirement already satisfied: kiwisolver>=1.0.1 in /usr/local/lib/python3.7/dist-packages (from matplotlib>=2.2.5->orange3) (1.4.2)\n",
            "Requirement already satisfied: python-dateutil>=2.1 in /usr/local/lib/python3.7/dist-packages (from matplotlib>=2.2.5->orange3) (2.8.2)\n",
            "Requirement already satisfied: pyparsing!=2.0.4,!=2.1.2,!=2.1.6,>=2.0.1 in /usr/local/lib/python3.7/dist-packages (from matplotlib>=2.2.5->orange3) (3.0.8)\n",
            "Requirement already satisfied: cycler>=0.10 in /usr/local/lib/python3.7/dist-packages (from matplotlib>=2.2.5->orange3) (0.11.0)\n",
            "Requirement already satisfied: importlib-metadata in /usr/local/lib/python3.7/dist-packages (from orange-canvas-core<0.2a,>=0.1.24->orange3) (4.11.3)\n",
            "Requirement already satisfied: dictdiffer in /usr/local/lib/python3.7/dist-packages (from orange-canvas-core<0.2a,>=0.1.24->orange3) (0.9.0)\n",
            "Requirement already satisfied: cachecontrol[filecache] in /usr/local/lib/python3.7/dist-packages (from orange-canvas-core<0.2a,>=0.1.24->orange3) (0.12.10)\n",
            "Requirement already satisfied: commonmark>=0.8.1 in /usr/local/lib/python3.7/dist-packages (from orange-canvas-core<0.2a,>=0.1.24->orange3) (0.9.1)\n",
            "Requirement already satisfied: docutils in /usr/local/lib/python3.7/dist-packages (from orange-canvas-core<0.2a,>=0.1.24->orange3) (0.17.1)\n",
            "Requirement already satisfied: qasync in /usr/local/lib/python3.7/dist-packages (from orange-canvas-core<0.2a,>=0.1.24->orange3) (0.23.0)\n",
            "Requirement already satisfied: pytz>=2017.3 in /usr/local/lib/python3.7/dist-packages (from pandas>=1.3.0->orange3) (2022.1)\n",
            "Requirement already satisfied: PyQt5-Qt5>=5.15.2 in /usr/local/lib/python3.7/dist-packages (from PyQt5!=5.15.1,>=5.12->orange3) (5.15.2)\n",
            "Requirement already satisfied: PyQt5-sip<13,>=12.8 in /usr/local/lib/python3.7/dist-packages (from PyQt5!=5.15.1,>=5.12->orange3) (12.10.1)\n",
            "Requirement already satisfied: PyQtWebEngine-Qt5>=5.15.2 in /usr/local/lib/python3.7/dist-packages (from PyQtWebEngine>=5.12->orange3) (5.15.2)\n",
            "Requirement already satisfied: six>=1.5 in /usr/local/lib/python3.7/dist-packages (from python-dateutil>=2.1->matplotlib>=2.2.5->orange3) (1.15.0)\n",
            "Requirement already satisfied: traitlets in /usr/local/lib/python3.7/dist-packages (from qtconsole>=4.7.2->orange3) (5.1.1)\n",
            "Requirement already satisfied: jupyter-core in /usr/local/lib/python3.7/dist-packages (from qtconsole>=4.7.2->orange3) (4.9.2)\n",
            "Requirement already satisfied: pyzmq>=17.1 in /usr/local/lib/python3.7/dist-packages (from qtconsole>=4.7.2->orange3) (22.3.0)\n",
            "Requirement already satisfied: ipykernel>=4.1 in /usr/local/lib/python3.7/dist-packages (from qtconsole>=4.7.2->orange3) (4.10.1)\n",
            "Requirement already satisfied: qtpy>=2.0.1 in /usr/local/lib/python3.7/dist-packages (from qtconsole>=4.7.2->orange3) (2.0.1)\n",
            "Requirement already satisfied: jupyter-client>=4.1 in /usr/local/lib/python3.7/dist-packages (from qtconsole>=4.7.2->orange3) (5.3.5)\n",
            "Requirement already satisfied: ipython-genutils in /usr/local/lib/python3.7/dist-packages (from qtconsole>=4.7.2->orange3) (0.2.0)\n",
            "Requirement already satisfied: tornado>=4.0 in /usr/local/lib/python3.7/dist-packages (from ipykernel>=4.1->qtconsole>=4.7.2->orange3) (5.1.1)\n",
            "Requirement already satisfied: ipython>=4.0.0 in /usr/local/lib/python3.7/dist-packages (from ipykernel>=4.1->qtconsole>=4.7.2->orange3) (5.5.0)\n",
            "Requirement already satisfied: simplegeneric>0.8 in /usr/local/lib/python3.7/dist-packages (from ipython>=4.0.0->ipykernel>=4.1->qtconsole>=4.7.2->orange3) (0.8.1)\n",
            "Requirement already satisfied: pexpect in /usr/local/lib/python3.7/dist-packages (from ipython>=4.0.0->ipykernel>=4.1->qtconsole>=4.7.2->orange3) (4.8.0)\n",
            "Requirement already satisfied: decorator in /usr/local/lib/python3.7/dist-packages (from ipython>=4.0.0->ipykernel>=4.1->qtconsole>=4.7.2->orange3) (4.4.2)\n",
            "Requirement already satisfied: prompt-toolkit<2.0.0,>=1.0.4 in /usr/local/lib/python3.7/dist-packages (from ipython>=4.0.0->ipykernel>=4.1->qtconsole>=4.7.2->orange3) (1.0.18)\n",
            "Requirement already satisfied: pickleshare in /usr/local/lib/python3.7/dist-packages (from ipython>=4.0.0->ipykernel>=4.1->qtconsole>=4.7.2->orange3) (0.7.5)\n",
            "Requirement already satisfied: wcwidth in /usr/local/lib/python3.7/dist-packages (from prompt-toolkit<2.0.0,>=1.0.4->ipython>=4.0.0->ipykernel>=4.1->qtconsole>=4.7.2->orange3) (0.2.5)\n",
            "Requirement already satisfied: packaging in /usr/local/lib/python3.7/dist-packages (from qtpy>=2.0.1->qtconsole>=4.7.2->orange3) (21.3)\n",
            "Requirement already satisfied: threadpoolctl>=2.0.0 in /usr/local/lib/python3.7/dist-packages (from scikit-learn>=1.0.1->orange3) (3.1.0)\n",
            "Requirement already satisfied: msgpack>=0.5.2 in /usr/local/lib/python3.7/dist-packages (from cachecontrol[filecache]->orange-canvas-core<0.2a,>=0.1.24->orange3) (1.0.3)\n",
            "Requirement already satisfied: lockfile>=0.9 in /usr/local/lib/python3.7/dist-packages (from cachecontrol[filecache]->orange-canvas-core<0.2a,>=0.1.24->orange3) (0.12.2)\n",
            "Requirement already satisfied: zipp>=0.5 in /usr/local/lib/python3.7/dist-packages (from importlib-metadata->orange-canvas-core<0.2a,>=0.1.24->orange3) (3.8.0)\n",
            "Requirement already satisfied: SecretStorage>=3.2 in /usr/local/lib/python3.7/dist-packages (from keyring->orange3) (3.3.2)\n",
            "Requirement already satisfied: jeepney>=0.4.2 in /usr/local/lib/python3.7/dist-packages (from keyring->orange3) (0.8.0)\n",
            "Requirement already satisfied: cryptography>=2.0 in /usr/local/lib/python3.7/dist-packages (from SecretStorage>=3.2->keyring->orange3) (36.0.2)\n",
            "Requirement already satisfied: cffi>=1.12 in /usr/local/lib/python3.7/dist-packages (from cryptography>=2.0->SecretStorage>=3.2->keyring->orange3) (1.15.0)\n",
            "Requirement already satisfied: pycparser in /usr/local/lib/python3.7/dist-packages (from cffi>=1.12->cryptography>=2.0->SecretStorage>=3.2->keyring->orange3) (2.21)\n",
            "Requirement already satisfied: et-xmlfile in /usr/local/lib/python3.7/dist-packages (from openpyxl->orange3) (1.1.0)\n",
            "Requirement already satisfied: ptyprocess>=0.5 in /usr/local/lib/python3.7/dist-packages (from pexpect->ipython>=4.0.0->ipykernel>=4.1->qtconsole>=4.7.2->orange3) (0.7.0)\n",
            "Requirement already satisfied: urllib3!=1.25.0,!=1.25.1,<1.26,>=1.21.1 in /usr/local/lib/python3.7/dist-packages (from requests->orange3) (1.24.3)\n"
          ]
        }
      ],
      "source": [
        "pip install orange3"
      ]
    },
    {
      "cell_type": "code",
      "source": [
        "import Orange \n",
        "import numpy as np #Inducao de regras com Orange\n",
        "np.set_printoptions(threshold=np.inf)\n",
        "base = Orange.data.Table(\"risco_credito_regras.csv\")\n",
        "print(base)"
      ],
      "metadata": {
        "colab": {
          "base_uri": "https://localhost:8080/"
        },
        "id": "ZknSTZQjMIN5",
        "outputId": "45c00082-3a13-48df-d4df-e4a34d3f62bd"
      },
      "execution_count": 4,
      "outputs": [
        {
          "output_type": "stream",
          "name": "stdout",
          "text": [
            "[[ruim, alta, nenhuma, 0_15 | alto],\n",
            " [desconhecida, alta, nenhuma, 15_35 | alto],\n",
            " [desconhecida, baixa, nenhuma, 15_35 | moderado],\n",
            " [desconhecida, baixa, nenhuma, acima_35 | alto],\n",
            " [desconhecida, baixa, nenhuma, acima_35 | baixo],\n",
            " [desconhecida, baixa, adequada, acima_35 | baixo],\n",
            " [ruim, baixa, nenhuma, 0_15 | alto],\n",
            " [ruim, baixa, adequada, acima_35 | moderado],\n",
            " [boa, baixa, nenhuma, acima_35 | baixo],\n",
            " [boa, alta, adequada, acima_35 | baixo],\n",
            " [boa, alta, nenhuma, 0_15 | alto],\n",
            " [boa, alta, nenhuma, 15_35 | moderado],\n",
            " [boa, alta, nenhuma, acima_35 | baixo],\n",
            " [ruim, alta, nenhuma, 15_35 | alto]]\n"
          ]
        },
        {
          "output_type": "stream",
          "name": "stderr",
          "text": [
            "/usr/local/lib/python3.7/dist-packages/psycopg2/__init__.py:144: UserWarning: The psycopg2 wheel package will be renamed from release 2.8; in order to keep installing from binary please use \"pip install psycopg2-binary\" instead. For details see: <http://initd.org/psycopg/docs/install.html#binary-install-from-pypi>.\n",
            "  \"\"\")\n"
          ]
        }
      ]
    },
    {
      "cell_type": "code",
      "source": [
        "import Orange \n",
        "import numpy as np\n",
        "np.set_printoptions(threshold=np.inf)\n",
        "base = Orange.data.Table(\"risco_credito_regras.csv\")\n",
        "cn2_learner = Orange.classification.rules.CN2Learner()\n",
        "classificador = cn2_learner(base)\n",
        "#Visualizar as regras criadas\n",
        "for regras in classificador.rule_list:\n",
        "  print(regras)"
      ],
      "metadata": {
        "colab": {
          "base_uri": "https://localhost:8080/"
        },
        "id": "xQ6bVBWmO9Ep",
        "outputId": "5347aa8a-4ea7-4267-8c7e-73bf83134dfa"
      },
      "execution_count": 5,
      "outputs": [
        {
          "output_type": "stream",
          "name": "stdout",
          "text": [
            "IF renda==0_15 THEN risco=alto \n",
            "IF historia==boa AND divida!=alta THEN risco=baixo \n",
            "IF historia==boa AND garantias!=nenhuma THEN risco=baixo \n",
            "IF historia==boa AND renda!=15_35 THEN risco=baixo \n",
            "IF historia==boa THEN risco=moderado \n",
            "IF divida==alta THEN risco=alto \n",
            "IF historia!=desconhecida THEN risco=moderado \n",
            "IF garantias==adequada THEN risco=baixo \n",
            "IF renda==15_35 THEN risco=moderado \n",
            "IF historia==desconhecida THEN risco=baixo \n",
            "IF TRUE THEN risco=alto \n"
          ]
        }
      ]
    },
    {
      "cell_type": "code",
      "source": [
        "import Orange \n",
        "import numpy as np\n",
        "np.set_printoptions(threshold=np.inf)\n",
        "base = Orange.data.Table(\"risco_credito_regras.csv\")\n",
        "cn2_learner = Orange.classification.rules.CN2Learner()\n",
        "classificador = cn2_learner(base)\n",
        "#Historia boa, Divida Alta, garantias Nenhuma, renda>35\n",
        "#Historia Ruim, Divida Alta, garantias adequada, renda< 15\n",
        "resultado = classificador([['boa', 'alta', 'nenhuma', 'acima_35'],['ruim', 'alta', 'adequada', '0_15']])\n",
        "for i in resultado:\n",
        "  print('Resultado: ', base.domain.class_var.values[i])"
      ],
      "metadata": {
        "colab": {
          "base_uri": "https://localhost:8080/"
        },
        "id": "qFaphlZFQGyq",
        "outputId": "99f1bfb5-ba4e-42be-e3bb-8faba2dc4ee4"
      },
      "execution_count": 8,
      "outputs": [
        {
          "output_type": "stream",
          "name": "stdout",
          "text": [
            "Resultado:  baixo\n",
            "Resultado:  alto\n"
          ]
        }
      ]
    },
    {
      "cell_type": "code",
      "source": [
        "import Orange \n",
        "import numpy as np\n",
        "np.set_printoptions(threshold=np.inf)\n",
        "base = Orange.data.Table('credit_data_regras.csv')\n",
        "print(base.domain)"
      ],
      "metadata": {
        "colab": {
          "base_uri": "https://localhost:8080/"
        },
        "id": "P9eWXS4XR1io",
        "outputId": "509794ef-c0c4-4262-9374-fd1d1d87eef3"
      },
      "execution_count": 10,
      "outputs": [
        {
          "output_type": "stream",
          "name": "stdout",
          "text": [
            "[income, age, loan | default]\n"
          ]
        }
      ]
    },
    {
      "cell_type": "code",
      "source": [
        "import Orange \n",
        "import numpy as np\n",
        "np.set_printoptions(threshold=np.inf)\n",
        "base = Orange.data.Table('credit_data_regras.csv')\n",
        "base_dividida = Orange.evaluation.testing.sample(base, n=0.25)\n",
        "base_treinamento = base_dividida[1]\n",
        "base_teste = base_dividida[0]\n",
        "classificador = cn2_learner(base_treinamento)\n",
        "#Vizualisar as regras criadas\n",
        "for regras in classificador.rule_list:\n",
        "  print(regras)"
      ],
      "metadata": {
        "colab": {
          "base_uri": "https://localhost:8080/"
        },
        "id": "7av9iqPLT2RD",
        "outputId": "ee53cca8-8dcd-4d58-9cf0-7aca888a4dd6"
      },
      "execution_count": 15,
      "outputs": [
        {
          "output_type": "stream",
          "name": "stdout",
          "text": [
            "IF age>=34.9257164876908 THEN default=0 \n",
            "IF loan<=2495.13299137587 AND income>=20511.4294355735 THEN default=0 \n",
            "IF loan>=7708.31562497011 AND loan>=9601.375482171099 THEN default=1 \n",
            "IF loan>=7708.31562497011 AND loan>=9595.28628892989 THEN default=0 \n",
            "IF loan>=7708.31562497011 AND age>=21.4227129220963 THEN default=1 \n",
            "IF income<=46696.8926647678 AND loan>=5416.3577980789005 THEN default=1 \n",
            "IF age>=33.2456503002904 AND income>=33093.9618567936 THEN default=0 \n",
            "IF income<=31702.3342987522 AND loan>=3665.88089899456 THEN default=1 \n",
            "IF age>=19.5239827041514 AND income>=58168.474065605595 THEN default=0 \n",
            "IF income<=22089.8374845274 AND age>=23.238169600255798 THEN default=1 \n",
            "IF loan>=6069.64909380359 AND age>=23.6371360039338 THEN default=1 \n",
            "IF loan>=7880.68580712225 THEN default=1 \n",
            "IF loan<=2971.00330971188 AND income>=24857.6948815025 THEN default=0 \n",
            "IF age<=32.516422502230895 AND age>=32.516422502230895 THEN default=1 \n",
            "IF loan<=4285.38691174949 AND income>=33489.0398592688 THEN default=0 \n",
            "IF income>=42067.246446386 AND age>=27.031741308979697 THEN default=0 \n",
            "IF income>=49640.00470237809 AND age>=20.1403118157759 THEN default=0 \n",
            "IF income>=58780.233496800094 THEN default=0 \n",
            "IF loan>=6069.64909380359 THEN default=1 \n",
            "IF income>=42067.246446386 AND age>=27.0216773641296 THEN default=1 \n",
            "IF income>=42067.246446386 THEN default=0 \n",
            "IF loan>=4625.19337762744 THEN default=1 \n",
            "IF income>=29775.1422203146 AND age>=30.142012033611497 THEN default=1 \n",
            "IF income>=29775.1422203146 THEN default=0 \n",
            "IF income>=24500.1419843175 THEN default=1 \n",
            "IF income<=22925.8120805025 THEN default=0 \n",
            "IF TRUE THEN default=0 \n"
          ]
        }
      ]
    },
    {
      "cell_type": "code",
      "source": [
        "import Orange \n",
        "import numpy as np\n"
      ],
      "metadata": {
        "id": "IHJoasWQXDCW"
      },
      "execution_count": null,
      "outputs": []
    }
  ]
}